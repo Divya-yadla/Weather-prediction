{
 "cells": [
  {
   "cell_type": "code",
   "execution_count": 5,
   "id": "097b7b3a-d5c0-4082-bc1d-ea57d657cb45",
   "metadata": {},
   "outputs": [],
   "source": [
    "import pandas as pd\n",
    "import numpy as np\n",
    "import matplotlib.pyplot as plt\n",
    "import seaborn as sns\n"
   ]
  },
  {
   "cell_type": "code",
   "execution_count": 6,
   "id": "18e80434-4fa6-4294-8cc9-4ad5be386366",
   "metadata": {},
   "outputs": [],
   "source": [
    "data=pd.read_csv('weather_forecast.csv')"
   ]
  },
  {
   "cell_type": "code",
   "execution_count": 7,
   "id": "1b4e5003-504c-4bd0-963b-835c1e5fcc8c",
   "metadata": {},
   "outputs": [
    {
     "data": {
      "text/html": [
       "<div>\n",
       "<style scoped>\n",
       "    .dataframe tbody tr th:only-of-type {\n",
       "        vertical-align: middle;\n",
       "    }\n",
       "\n",
       "    .dataframe tbody tr th {\n",
       "        vertical-align: top;\n",
       "    }\n",
       "\n",
       "    .dataframe thead th {\n",
       "        text-align: right;\n",
       "    }\n",
       "</style>\n",
       "<table border=\"1\" class=\"dataframe\">\n",
       "  <thead>\n",
       "    <tr style=\"text-align: right;\">\n",
       "      <th></th>\n",
       "      <th>Date/Time</th>\n",
       "      <th>Temp_C</th>\n",
       "      <th>Dew Point Temp_C</th>\n",
       "      <th>Rel Hum_%</th>\n",
       "      <th>Wind Speed_km/h</th>\n",
       "      <th>Visibility_km</th>\n",
       "      <th>Press_kPa</th>\n",
       "      <th>Weather</th>\n",
       "    </tr>\n",
       "  </thead>\n",
       "  <tbody>\n",
       "    <tr>\n",
       "      <th>0</th>\n",
       "      <td>1/1/2012 0:00</td>\n",
       "      <td>-1.8</td>\n",
       "      <td>-3.9</td>\n",
       "      <td>86</td>\n",
       "      <td>4</td>\n",
       "      <td>8.0</td>\n",
       "      <td>101.24</td>\n",
       "      <td>Fog</td>\n",
       "    </tr>\n",
       "    <tr>\n",
       "      <th>1</th>\n",
       "      <td>1/1/2012 1:00</td>\n",
       "      <td>-1.8</td>\n",
       "      <td>-3.7</td>\n",
       "      <td>87</td>\n",
       "      <td>4</td>\n",
       "      <td>8.0</td>\n",
       "      <td>101.24</td>\n",
       "      <td>Fog</td>\n",
       "    </tr>\n",
       "    <tr>\n",
       "      <th>2</th>\n",
       "      <td>1/1/2012 2:00</td>\n",
       "      <td>-1.8</td>\n",
       "      <td>-3.4</td>\n",
       "      <td>89</td>\n",
       "      <td>7</td>\n",
       "      <td>4.0</td>\n",
       "      <td>101.26</td>\n",
       "      <td>Freezing Drizzle,Fog</td>\n",
       "    </tr>\n",
       "    <tr>\n",
       "      <th>3</th>\n",
       "      <td>1/1/2012 3:00</td>\n",
       "      <td>-1.5</td>\n",
       "      <td>-3.2</td>\n",
       "      <td>88</td>\n",
       "      <td>6</td>\n",
       "      <td>4.0</td>\n",
       "      <td>101.27</td>\n",
       "      <td>Freezing Drizzle,Fog</td>\n",
       "    </tr>\n",
       "    <tr>\n",
       "      <th>4</th>\n",
       "      <td>1/1/2012 4:00</td>\n",
       "      <td>-1.5</td>\n",
       "      <td>-3.3</td>\n",
       "      <td>88</td>\n",
       "      <td>7</td>\n",
       "      <td>4.8</td>\n",
       "      <td>101.23</td>\n",
       "      <td>Fog</td>\n",
       "    </tr>\n",
       "  </tbody>\n",
       "</table>\n",
       "</div>"
      ],
      "text/plain": [
       "       Date/Time  Temp_C  Dew Point Temp_C  Rel Hum_%  Wind Speed_km/h  \\\n",
       "0  1/1/2012 0:00    -1.8              -3.9         86                4   \n",
       "1  1/1/2012 1:00    -1.8              -3.7         87                4   \n",
       "2  1/1/2012 2:00    -1.8              -3.4         89                7   \n",
       "3  1/1/2012 3:00    -1.5              -3.2         88                6   \n",
       "4  1/1/2012 4:00    -1.5              -3.3         88                7   \n",
       "\n",
       "   Visibility_km  Press_kPa               Weather  \n",
       "0            8.0     101.24                   Fog  \n",
       "1            8.0     101.24                   Fog  \n",
       "2            4.0     101.26  Freezing Drizzle,Fog  \n",
       "3            4.0     101.27  Freezing Drizzle,Fog  \n",
       "4            4.8     101.23                   Fog  "
      ]
     },
     "execution_count": 7,
     "metadata": {},
     "output_type": "execute_result"
    }
   ],
   "source": [
    "data.head()"
   ]
  },
  {
   "cell_type": "code",
   "execution_count": 8,
   "id": "990c7555-5ae2-47f2-b1f3-0819a3063f4c",
   "metadata": {},
   "outputs": [
    {
     "data": {
      "text/plain": [
       "(8784, 8)"
      ]
     },
     "execution_count": 8,
     "metadata": {},
     "output_type": "execute_result"
    }
   ],
   "source": [
    "data.shape\n"
   ]
  },
  {
   "cell_type": "code",
   "execution_count": 9,
   "id": "26d4eed8-38da-40c8-8dda-fc4db52ac481",
   "metadata": {},
   "outputs": [
    {
     "data": {
      "text/plain": [
       "Index(['Date/Time', 'Temp_C', 'Dew Point Temp_C', 'Rel Hum_%',\n",
       "       'Wind Speed_km/h', 'Visibility_km', 'Press_kPa', 'Weather'],\n",
       "      dtype='object')"
      ]
     },
     "execution_count": 9,
     "metadata": {},
     "output_type": "execute_result"
    }
   ],
   "source": [
    "data.columns"
   ]
  },
  {
   "cell_type": "code",
   "execution_count": 10,
   "id": "91fbd165-eda4-4259-926d-a569ff3c8e52",
   "metadata": {},
   "outputs": [
    {
     "name": "stdout",
     "output_type": "stream",
     "text": [
      "<class 'pandas.core.frame.DataFrame'>\n",
      "RangeIndex: 8784 entries, 0 to 8783\n",
      "Data columns (total 8 columns):\n",
      " #   Column            Non-Null Count  Dtype  \n",
      "---  ------            --------------  -----  \n",
      " 0   Date/Time         8784 non-null   object \n",
      " 1   Temp_C            8784 non-null   float64\n",
      " 2   Dew Point Temp_C  8784 non-null   float64\n",
      " 3   Rel Hum_%         8784 non-null   int64  \n",
      " 4   Wind Speed_km/h   8784 non-null   int64  \n",
      " 5   Visibility_km     8784 non-null   float64\n",
      " 6   Press_kPa         8784 non-null   float64\n",
      " 7   Weather           8784 non-null   object \n",
      "dtypes: float64(4), int64(2), object(2)\n",
      "memory usage: 549.1+ KB\n"
     ]
    }
   ],
   "source": [
    "data.info()"
   ]
  },
  {
   "cell_type": "code",
   "execution_count": 11,
   "id": "5e5ca81d-cc81-4359-ae1f-196b39153c6a",
   "metadata": {},
   "outputs": [
    {
     "data": {
      "text/plain": [
       "Weather\n",
       "Mainly Clear                               2106\n",
       "Mostly Cloudy                              2069\n",
       "Cloudy                                     1728\n",
       "Clear                                      1326\n",
       "Snow                                        390\n",
       "Rain                                        306\n",
       "Rain Showers                                188\n",
       "Fog                                         150\n",
       "Rain,Fog                                    116\n",
       "Drizzle,Fog                                  80\n",
       "Snow Showers                                 60\n",
       "Drizzle                                      41\n",
       "Snow,Fog                                     37\n",
       "Snow,Blowing Snow                            19\n",
       "Rain,Snow                                    18\n",
       "Thunderstorms,Rain Showers                   16\n",
       "Haze                                         16\n",
       "Drizzle,Snow,Fog                             15\n",
       "Freezing Rain                                14\n",
       "Freezing Drizzle,Snow                        11\n",
       "Freezing Drizzle                              7\n",
       "Snow,Ice Pellets                              6\n",
       "Freezing Drizzle,Fog                          6\n",
       "Snow,Haze                                     5\n",
       "Freezing Fog                                  4\n",
       "Snow Showers,Fog                              4\n",
       "Moderate Snow                                 4\n",
       "Rain,Snow,Ice Pellets                         4\n",
       "Freezing Rain,Fog                             4\n",
       "Freezing Drizzle,Haze                         3\n",
       "Rain,Haze                                     3\n",
       "Thunderstorms,Rain                            3\n",
       "Thunderstorms,Rain Showers,Fog                3\n",
       "Freezing Rain,Haze                            2\n",
       "Drizzle,Snow                                  2\n",
       "Rain Showers,Snow Showers                     2\n",
       "Thunderstorms                                 2\n",
       "Moderate Snow,Blowing Snow                    2\n",
       "Rain Showers,Fog                              1\n",
       "Thunderstorms,Moderate Rain Showers,Fog       1\n",
       "Snow Pellets                                  1\n",
       "Rain,Snow,Fog                                 1\n",
       "Moderate Rain,Fog                             1\n",
       "Freezing Rain,Ice Pellets,Fog                 1\n",
       "Drizzle,Ice Pellets,Fog                       1\n",
       "Thunderstorms,Rain,Fog                        1\n",
       "Rain,Ice Pellets                              1\n",
       "Rain,Snow Grains                              1\n",
       "Thunderstorms,Heavy Rain Showers              1\n",
       "Freezing Rain,Snow Grains                     1\n",
       "Name: count, dtype: int64"
      ]
     },
     "execution_count": 11,
     "metadata": {},
     "output_type": "execute_result"
    }
   ],
   "source": [
    "data.Weather.value_counts()"
   ]
  },
  {
   "cell_type": "code",
   "execution_count": 12,
   "id": "78e28de4-af63-4eae-bf08-3ac5b9c76fff",
   "metadata": {},
   "outputs": [
    {
     "data": {
      "text/plain": [
       "array(['Fog', 'Freezing Drizzle,Fog', 'Mostly Cloudy', 'Cloudy', 'Rain',\n",
       "       'Rain Showers', 'Mainly Clear', 'Snow Showers', 'Snow', 'Clear',\n",
       "       'Freezing Rain,Fog', 'Freezing Rain', 'Freezing Drizzle',\n",
       "       'Rain,Snow', 'Moderate Snow', 'Freezing Drizzle,Snow',\n",
       "       'Freezing Rain,Snow Grains', 'Snow,Blowing Snow', 'Freezing Fog',\n",
       "       'Haze', 'Rain,Fog', 'Drizzle,Fog', 'Drizzle',\n",
       "       'Freezing Drizzle,Haze', 'Freezing Rain,Haze', 'Snow,Haze',\n",
       "       'Snow,Fog', 'Snow,Ice Pellets', 'Rain,Haze', 'Thunderstorms,Rain',\n",
       "       'Thunderstorms,Rain Showers', 'Thunderstorms,Heavy Rain Showers',\n",
       "       'Thunderstorms,Rain Showers,Fog', 'Thunderstorms',\n",
       "       'Thunderstorms,Rain,Fog',\n",
       "       'Thunderstorms,Moderate Rain Showers,Fog', 'Rain Showers,Fog',\n",
       "       'Rain Showers,Snow Showers', 'Snow Pellets', 'Rain,Snow,Fog',\n",
       "       'Moderate Rain,Fog', 'Freezing Rain,Ice Pellets,Fog',\n",
       "       'Drizzle,Ice Pellets,Fog', 'Drizzle,Snow', 'Rain,Ice Pellets',\n",
       "       'Drizzle,Snow,Fog', 'Rain,Snow Grains', 'Rain,Snow,Ice Pellets',\n",
       "       'Snow Showers,Fog', 'Moderate Snow,Blowing Snow'], dtype=object)"
      ]
     },
     "execution_count": 12,
     "metadata": {},
     "output_type": "execute_result"
    }
   ],
   "source": [
    "data.Weather.unique()"
   ]
  },
  {
   "cell_type": "markdown",
   "id": "c98a5454-e78a-441f-af04-a124ede6bd09",
   "metadata": {},
   "source": [
    "**Categories the Weather Categories into Standard categories:**"
   ]
  },
  {
   "cell_type": "code",
   "execution_count": 13,
   "id": "c604e542-ea33-42ca-8505-79279f7b683b",
   "metadata": {},
   "outputs": [],
   "source": [
    "x='Thunderstorms,Moderate Rain Showers,Fog'"
   ]
  },
  {
   "cell_type": "code",
   "execution_count": 14,
   "id": "79c019a0-d73b-4f3d-96b1-91a46074299e",
   "metadata": {},
   "outputs": [
    {
     "data": {
      "text/plain": [
       "[['Thunderstorms'], ['Moderate', 'Rain', 'Showers'], ['Fog']]"
      ]
     },
     "execution_count": 14,
     "metadata": {},
     "output_type": "execute_result"
    }
   ],
   "source": [
    "list_of_lists = [w.split() for w in x.split(',')]\n",
    "list_of_lists"
   ]
  },
  {
   "cell_type": "code",
   "execution_count": 16,
   "id": "6123df44-a7db-4c26-86b8-895d35f24ab7",
   "metadata": {},
   "outputs": [
    {
     "data": {
      "text/plain": [
       "['Thunderstorms', 'Moderate', 'Rain', 'Showers', 'Fog']"
      ]
     },
     "execution_count": 16,
     "metadata": {},
     "output_type": "execute_result"
    }
   ],
   "source": [
    "from itertools import chain\n",
    "flat_list=list(chain(*list_of_lists))\n",
    "flat_list"
   ]
  },
  {
   "cell_type": "code",
   "execution_count": 17,
   "id": "e3b83e4a-c309-4d10-8809-08658c533c82",
   "metadata": {},
   "outputs": [],
   "source": [
    "def Create_list(x):\n",
    "    list_of_lists=[w.split() for w in x.split(',')]\n",
    "    flat_list=list(chain(*list_of_lists))\n",
    "    return flat_list\n",
    "\n",
    "def Get_Weather(list1):\n",
    "    if 'Fog' in list1 and 'Rain' in list1:\n",
    "        return 'RAIN+FOG'\n",
    "    elif 'Snow' in list1 and 'Rain' in list1:\n",
    "         return 'SNOW+RAIN'\n",
    "    elif 'Snow' in list1:\n",
    "         return 'SNOW'\n",
    "    elif 'Fog' in list1: \n",
    "         return 'FOG'\n",
    "    elif 'Clear' in list1: \n",
    "         return 'CLEAR'\n",
    "    elif 'Cloudy' in list1:\n",
    "         return 'CLOUDY'\n",
    "    else:\n",
    "         return 'RAIN'\n"
   ]
  },
  {
   "cell_type": "code",
   "execution_count": 18,
   "id": "40766826-1d78-4188-b66d-30ca14980e26",
   "metadata": {},
   "outputs": [
    {
     "data": {
      "text/plain": [
       "['Thunderstorms', 'Moderate', 'Rain', 'Showers', 'Fog']"
      ]
     },
     "execution_count": 18,
     "metadata": {},
     "output_type": "execute_result"
    }
   ],
   "source": [
    "Create_list(x)"
   ]
  },
  {
   "cell_type": "code",
   "execution_count": 21,
   "id": "460b73de-8fd0-4354-9008-b0b0cdf65d00",
   "metadata": {},
   "outputs": [
    {
     "data": {
      "text/plain": [
       "'RAIN+FOG'"
      ]
     },
     "execution_count": 21,
     "metadata": {},
     "output_type": "execute_result"
    }
   ],
   "source": [
    "Get_Weather(Create_list(x))"
   ]
  },
  {
   "cell_type": "code",
   "execution_count": 22,
   "id": "ea83a7aa-e983-480d-bce1-59ce63787a65",
   "metadata": {},
   "outputs": [],
   "source": [
    "data['Std_Weather'] = data['Weather'].apply(lambda x:Get_Weather(Create_list(x)))"
   ]
  },
  {
   "cell_type": "code",
   "execution_count": 23,
   "id": "8dbf1335-d5fa-4969-aef8-9b8b7d5f35a6",
   "metadata": {},
   "outputs": [
    {
     "data": {
      "text/html": [
       "<div>\n",
       "<style scoped>\n",
       "    .dataframe tbody tr th:only-of-type {\n",
       "        vertical-align: middle;\n",
       "    }\n",
       "\n",
       "    .dataframe tbody tr th {\n",
       "        vertical-align: top;\n",
       "    }\n",
       "\n",
       "    .dataframe thead th {\n",
       "        text-align: right;\n",
       "    }\n",
       "</style>\n",
       "<table border=\"1\" class=\"dataframe\">\n",
       "  <thead>\n",
       "    <tr style=\"text-align: right;\">\n",
       "      <th></th>\n",
       "      <th>Date/Time</th>\n",
       "      <th>Temp_C</th>\n",
       "      <th>Dew Point Temp_C</th>\n",
       "      <th>Rel Hum_%</th>\n",
       "      <th>Wind Speed_km/h</th>\n",
       "      <th>Visibility_km</th>\n",
       "      <th>Press_kPa</th>\n",
       "      <th>Weather</th>\n",
       "      <th>Std_Weather</th>\n",
       "    </tr>\n",
       "  </thead>\n",
       "  <tbody>\n",
       "    <tr>\n",
       "      <th>0</th>\n",
       "      <td>1/1/2012 0:00</td>\n",
       "      <td>-1.8</td>\n",
       "      <td>-3.9</td>\n",
       "      <td>86</td>\n",
       "      <td>4</td>\n",
       "      <td>8.0</td>\n",
       "      <td>101.24</td>\n",
       "      <td>Fog</td>\n",
       "      <td>FOG</td>\n",
       "    </tr>\n",
       "    <tr>\n",
       "      <th>1</th>\n",
       "      <td>1/1/2012 1:00</td>\n",
       "      <td>-1.8</td>\n",
       "      <td>-3.7</td>\n",
       "      <td>87</td>\n",
       "      <td>4</td>\n",
       "      <td>8.0</td>\n",
       "      <td>101.24</td>\n",
       "      <td>Fog</td>\n",
       "      <td>FOG</td>\n",
       "    </tr>\n",
       "    <tr>\n",
       "      <th>2</th>\n",
       "      <td>1/1/2012 2:00</td>\n",
       "      <td>-1.8</td>\n",
       "      <td>-3.4</td>\n",
       "      <td>89</td>\n",
       "      <td>7</td>\n",
       "      <td>4.0</td>\n",
       "      <td>101.26</td>\n",
       "      <td>Freezing Drizzle,Fog</td>\n",
       "      <td>FOG</td>\n",
       "    </tr>\n",
       "    <tr>\n",
       "      <th>3</th>\n",
       "      <td>1/1/2012 3:00</td>\n",
       "      <td>-1.5</td>\n",
       "      <td>-3.2</td>\n",
       "      <td>88</td>\n",
       "      <td>6</td>\n",
       "      <td>4.0</td>\n",
       "      <td>101.27</td>\n",
       "      <td>Freezing Drizzle,Fog</td>\n",
       "      <td>FOG</td>\n",
       "    </tr>\n",
       "    <tr>\n",
       "      <th>4</th>\n",
       "      <td>1/1/2012 4:00</td>\n",
       "      <td>-1.5</td>\n",
       "      <td>-3.3</td>\n",
       "      <td>88</td>\n",
       "      <td>7</td>\n",
       "      <td>4.8</td>\n",
       "      <td>101.23</td>\n",
       "      <td>Fog</td>\n",
       "      <td>FOG</td>\n",
       "    </tr>\n",
       "  </tbody>\n",
       "</table>\n",
       "</div>"
      ],
      "text/plain": [
       "       Date/Time  Temp_C  Dew Point Temp_C  Rel Hum_%  Wind Speed_km/h  \\\n",
       "0  1/1/2012 0:00    -1.8              -3.9         86                4   \n",
       "1  1/1/2012 1:00    -1.8              -3.7         87                4   \n",
       "2  1/1/2012 2:00    -1.8              -3.4         89                7   \n",
       "3  1/1/2012 3:00    -1.5              -3.2         88                6   \n",
       "4  1/1/2012 4:00    -1.5              -3.3         88                7   \n",
       "\n",
       "   Visibility_km  Press_kPa               Weather Std_Weather  \n",
       "0            8.0     101.24                   Fog         FOG  \n",
       "1            8.0     101.24                   Fog         FOG  \n",
       "2            4.0     101.26  Freezing Drizzle,Fog         FOG  \n",
       "3            4.0     101.27  Freezing Drizzle,Fog         FOG  \n",
       "4            4.8     101.23                   Fog         FOG  "
      ]
     },
     "execution_count": 23,
     "metadata": {},
     "output_type": "execute_result"
    }
   ],
   "source": [
    "data.head()"
   ]
  },
  {
   "cell_type": "code",
   "execution_count": 24,
   "id": "bb498b08-3a8a-4fd9-b3fe-eb1391cafeba",
   "metadata": {},
   "outputs": [
    {
     "data": {
      "text/plain": [
       "Std_Weather\n",
       "CLOUDY       3797\n",
       "CLEAR        3432\n",
       "RAIN          603\n",
       "SNOW          556\n",
       "FOG           241\n",
       "RAIN+FOG      129\n",
       "SNOW+RAIN      26\n",
       "Name: count, dtype: int64"
      ]
     },
     "execution_count": 24,
     "metadata": {},
     "output_type": "execute_result"
    }
   ],
   "source": [
    "data.Std_Weather.value_counts()"
   ]
  },
  {
   "cell_type": "markdown",
   "id": "7a559d6f-6970-4033-aed8-9dc4a0a9b0b2",
   "metadata": {},
   "source": [
    "**Sample selection and data balancing**"
   ]
  },
  {
   "cell_type": "code",
   "execution_count": 25,
   "id": "aac0a7bd-0276-4331-a37a-5f35ef026ae4",
   "metadata": {},
   "outputs": [
    {
     "data": {
      "text/html": [
       "<div>\n",
       "<style scoped>\n",
       "    .dataframe tbody tr th:only-of-type {\n",
       "        vertical-align: middle;\n",
       "    }\n",
       "\n",
       "    .dataframe tbody tr th {\n",
       "        vertical-align: top;\n",
       "    }\n",
       "\n",
       "    .dataframe thead th {\n",
       "        text-align: right;\n",
       "    }\n",
       "</style>\n",
       "<table border=\"1\" class=\"dataframe\">\n",
       "  <thead>\n",
       "    <tr style=\"text-align: right;\">\n",
       "      <th></th>\n",
       "      <th>Date/Time</th>\n",
       "      <th>Temp_C</th>\n",
       "      <th>Dew Point Temp_C</th>\n",
       "      <th>Rel Hum_%</th>\n",
       "      <th>Wind Speed_km/h</th>\n",
       "      <th>Visibility_km</th>\n",
       "      <th>Press_kPa</th>\n",
       "      <th>Weather</th>\n",
       "      <th>Std_Weather</th>\n",
       "    </tr>\n",
       "  </thead>\n",
       "  <tbody>\n",
       "    <tr>\n",
       "      <th>2027</th>\n",
       "      <td>3/25/2012 11:00</td>\n",
       "      <td>5.2</td>\n",
       "      <td>3.6</td>\n",
       "      <td>89</td>\n",
       "      <td>6</td>\n",
       "      <td>16.1</td>\n",
       "      <td>100.58</td>\n",
       "      <td>Cloudy</td>\n",
       "      <td>CLOUDY</td>\n",
       "    </tr>\n",
       "    <tr>\n",
       "      <th>4871</th>\n",
       "      <td>7/21/2012 23:00</td>\n",
       "      <td>22.9</td>\n",
       "      <td>14.4</td>\n",
       "      <td>59</td>\n",
       "      <td>9</td>\n",
       "      <td>25.0</td>\n",
       "      <td>101.19</td>\n",
       "      <td>Cloudy</td>\n",
       "      <td>CLOUDY</td>\n",
       "    </tr>\n",
       "    <tr>\n",
       "      <th>5363</th>\n",
       "      <td>8/11/2012 11:00</td>\n",
       "      <td>23.9</td>\n",
       "      <td>19.8</td>\n",
       "      <td>78</td>\n",
       "      <td>13</td>\n",
       "      <td>24.1</td>\n",
       "      <td>100.61</td>\n",
       "      <td>Mostly Cloudy</td>\n",
       "      <td>CLOUDY</td>\n",
       "    </tr>\n",
       "    <tr>\n",
       "      <th>6462</th>\n",
       "      <td>9/26/2012 6:00</td>\n",
       "      <td>15.0</td>\n",
       "      <td>9.1</td>\n",
       "      <td>68</td>\n",
       "      <td>17</td>\n",
       "      <td>24.1</td>\n",
       "      <td>100.86</td>\n",
       "      <td>Cloudy</td>\n",
       "      <td>CLOUDY</td>\n",
       "    </tr>\n",
       "    <tr>\n",
       "      <th>5412</th>\n",
       "      <td>8/13/2012 12:00</td>\n",
       "      <td>23.8</td>\n",
       "      <td>17.4</td>\n",
       "      <td>67</td>\n",
       "      <td>17</td>\n",
       "      <td>24.1</td>\n",
       "      <td>100.85</td>\n",
       "      <td>Mostly Cloudy</td>\n",
       "      <td>CLOUDY</td>\n",
       "    </tr>\n",
       "    <tr>\n",
       "      <th>...</th>\n",
       "      <td>...</td>\n",
       "      <td>...</td>\n",
       "      <td>...</td>\n",
       "      <td>...</td>\n",
       "      <td>...</td>\n",
       "      <td>...</td>\n",
       "      <td>...</td>\n",
       "      <td>...</td>\n",
       "      <td>...</td>\n",
       "    </tr>\n",
       "    <tr>\n",
       "      <th>487</th>\n",
       "      <td>1/21/2012 7:00</td>\n",
       "      <td>-13.9</td>\n",
       "      <td>-22.1</td>\n",
       "      <td>50</td>\n",
       "      <td>9</td>\n",
       "      <td>25.0</td>\n",
       "      <td>102.04</td>\n",
       "      <td>Cloudy</td>\n",
       "      <td>CLOUDY</td>\n",
       "    </tr>\n",
       "    <tr>\n",
       "      <th>8108</th>\n",
       "      <td>12/3/2012 20:00</td>\n",
       "      <td>3.5</td>\n",
       "      <td>0.7</td>\n",
       "      <td>82</td>\n",
       "      <td>0</td>\n",
       "      <td>25.0</td>\n",
       "      <td>101.99</td>\n",
       "      <td>Cloudy</td>\n",
       "      <td>CLOUDY</td>\n",
       "    </tr>\n",
       "    <tr>\n",
       "      <th>4088</th>\n",
       "      <td>6/19/2012 8:00</td>\n",
       "      <td>20.7</td>\n",
       "      <td>14.8</td>\n",
       "      <td>69</td>\n",
       "      <td>6</td>\n",
       "      <td>24.1</td>\n",
       "      <td>101.12</td>\n",
       "      <td>Cloudy</td>\n",
       "      <td>CLOUDY</td>\n",
       "    </tr>\n",
       "    <tr>\n",
       "      <th>7952</th>\n",
       "      <td>11/27/2012 8:00</td>\n",
       "      <td>-5.2</td>\n",
       "      <td>-8.4</td>\n",
       "      <td>78</td>\n",
       "      <td>9</td>\n",
       "      <td>24.1</td>\n",
       "      <td>102.15</td>\n",
       "      <td>Mostly Cloudy</td>\n",
       "      <td>CLOUDY</td>\n",
       "    </tr>\n",
       "    <tr>\n",
       "      <th>6742</th>\n",
       "      <td>10/7/2012 22:00</td>\n",
       "      <td>7.5</td>\n",
       "      <td>0.4</td>\n",
       "      <td>61</td>\n",
       "      <td>0</td>\n",
       "      <td>25.0</td>\n",
       "      <td>101.38</td>\n",
       "      <td>Cloudy</td>\n",
       "      <td>CLOUDY</td>\n",
       "    </tr>\n",
       "  </tbody>\n",
       "</table>\n",
       "<p>600 rows × 9 columns</p>\n",
       "</div>"
      ],
      "text/plain": [
       "            Date/Time  Temp_C  Dew Point Temp_C  Rel Hum_%  Wind Speed_km/h  \\\n",
       "2027  3/25/2012 11:00     5.2               3.6         89                6   \n",
       "4871  7/21/2012 23:00    22.9              14.4         59                9   \n",
       "5363  8/11/2012 11:00    23.9              19.8         78               13   \n",
       "6462   9/26/2012 6:00    15.0               9.1         68               17   \n",
       "5412  8/13/2012 12:00    23.8              17.4         67               17   \n",
       "...               ...     ...               ...        ...              ...   \n",
       "487    1/21/2012 7:00   -13.9             -22.1         50                9   \n",
       "8108  12/3/2012 20:00     3.5               0.7         82                0   \n",
       "4088   6/19/2012 8:00    20.7              14.8         69                6   \n",
       "7952  11/27/2012 8:00    -5.2              -8.4         78                9   \n",
       "6742  10/7/2012 22:00     7.5               0.4         61                0   \n",
       "\n",
       "      Visibility_km  Press_kPa        Weather Std_Weather  \n",
       "2027           16.1     100.58         Cloudy      CLOUDY  \n",
       "4871           25.0     101.19         Cloudy      CLOUDY  \n",
       "5363           24.1     100.61  Mostly Cloudy      CLOUDY  \n",
       "6462           24.1     100.86         Cloudy      CLOUDY  \n",
       "5412           24.1     100.85  Mostly Cloudy      CLOUDY  \n",
       "...             ...        ...            ...         ...  \n",
       "487            25.0     102.04         Cloudy      CLOUDY  \n",
       "8108           25.0     101.99         Cloudy      CLOUDY  \n",
       "4088           24.1     101.12         Cloudy      CLOUDY  \n",
       "7952           24.1     102.15  Mostly Cloudy      CLOUDY  \n",
       "6742           25.0     101.38         Cloudy      CLOUDY  \n",
       "\n",
       "[600 rows x 9 columns]"
      ]
     },
     "execution_count": 25,
     "metadata": {},
     "output_type": "execute_result"
    }
   ],
   "source": [
    "cloudy_df=data[data['Std_Weather']=='CLOUDY'].sample(600)\n",
    "cloudy_df\n"
   ]
  },
  {
   "cell_type": "code",
   "execution_count": 26,
   "id": "06b4b8fd-bbc3-467c-981a-9ae5e4e2cef8",
   "metadata": {},
   "outputs": [
    {
     "data": {
      "text/html": [
       "<div>\n",
       "<style scoped>\n",
       "    .dataframe tbody tr th:only-of-type {\n",
       "        vertical-align: middle;\n",
       "    }\n",
       "\n",
       "    .dataframe tbody tr th {\n",
       "        vertical-align: top;\n",
       "    }\n",
       "\n",
       "    .dataframe thead th {\n",
       "        text-align: right;\n",
       "    }\n",
       "</style>\n",
       "<table border=\"1\" class=\"dataframe\">\n",
       "  <thead>\n",
       "    <tr style=\"text-align: right;\">\n",
       "      <th></th>\n",
       "      <th>Date/Time</th>\n",
       "      <th>Temp_C</th>\n",
       "      <th>Dew Point Temp_C</th>\n",
       "      <th>Rel Hum_%</th>\n",
       "      <th>Wind Speed_km/h</th>\n",
       "      <th>Visibility_km</th>\n",
       "      <th>Press_kPa</th>\n",
       "      <th>Weather</th>\n",
       "      <th>Std_Weather</th>\n",
       "    </tr>\n",
       "  </thead>\n",
       "  <tbody>\n",
       "    <tr>\n",
       "      <th>698</th>\n",
       "      <td>1/30/2012 2:00</td>\n",
       "      <td>-5.1</td>\n",
       "      <td>-10.0</td>\n",
       "      <td>68</td>\n",
       "      <td>15</td>\n",
       "      <td>25.0</td>\n",
       "      <td>100.99</td>\n",
       "      <td>Clear</td>\n",
       "      <td>CLEAR</td>\n",
       "    </tr>\n",
       "    <tr>\n",
       "      <th>5268</th>\n",
       "      <td>8/7/2012 12:00</td>\n",
       "      <td>26.5</td>\n",
       "      <td>16.1</td>\n",
       "      <td>53</td>\n",
       "      <td>17</td>\n",
       "      <td>48.3</td>\n",
       "      <td>100.90</td>\n",
       "      <td>Mainly Clear</td>\n",
       "      <td>CLEAR</td>\n",
       "    </tr>\n",
       "    <tr>\n",
       "      <th>7718</th>\n",
       "      <td>11/17/2012 14:00</td>\n",
       "      <td>2.8</td>\n",
       "      <td>-7.4</td>\n",
       "      <td>47</td>\n",
       "      <td>6</td>\n",
       "      <td>48.3</td>\n",
       "      <td>103.43</td>\n",
       "      <td>Mainly Clear</td>\n",
       "      <td>CLEAR</td>\n",
       "    </tr>\n",
       "    <tr>\n",
       "      <th>7757</th>\n",
       "      <td>11/19/2012 5:00</td>\n",
       "      <td>-4.0</td>\n",
       "      <td>-7.1</td>\n",
       "      <td>79</td>\n",
       "      <td>9</td>\n",
       "      <td>25.0</td>\n",
       "      <td>103.03</td>\n",
       "      <td>Mainly Clear</td>\n",
       "      <td>CLEAR</td>\n",
       "    </tr>\n",
       "    <tr>\n",
       "      <th>4808</th>\n",
       "      <td>7/19/2012 8:00</td>\n",
       "      <td>18.4</td>\n",
       "      <td>9.4</td>\n",
       "      <td>56</td>\n",
       "      <td>6</td>\n",
       "      <td>48.3</td>\n",
       "      <td>101.28</td>\n",
       "      <td>Mainly Clear</td>\n",
       "      <td>CLEAR</td>\n",
       "    </tr>\n",
       "    <tr>\n",
       "      <th>...</th>\n",
       "      <td>...</td>\n",
       "      <td>...</td>\n",
       "      <td>...</td>\n",
       "      <td>...</td>\n",
       "      <td>...</td>\n",
       "      <td>...</td>\n",
       "      <td>...</td>\n",
       "      <td>...</td>\n",
       "      <td>...</td>\n",
       "    </tr>\n",
       "    <tr>\n",
       "      <th>8174</th>\n",
       "      <td>12/6/2012 14:00</td>\n",
       "      <td>-0.9</td>\n",
       "      <td>-8.7</td>\n",
       "      <td>55</td>\n",
       "      <td>13</td>\n",
       "      <td>48.3</td>\n",
       "      <td>102.21</td>\n",
       "      <td>Mainly Clear</td>\n",
       "      <td>CLEAR</td>\n",
       "    </tr>\n",
       "    <tr>\n",
       "      <th>7585</th>\n",
       "      <td>11/12/2012 1:00</td>\n",
       "      <td>0.6</td>\n",
       "      <td>-0.8</td>\n",
       "      <td>90</td>\n",
       "      <td>17</td>\n",
       "      <td>25.0</td>\n",
       "      <td>101.97</td>\n",
       "      <td>Mainly Clear</td>\n",
       "      <td>CLEAR</td>\n",
       "    </tr>\n",
       "    <tr>\n",
       "      <th>701</th>\n",
       "      <td>1/30/2012 5:00</td>\n",
       "      <td>-7.9</td>\n",
       "      <td>-13.8</td>\n",
       "      <td>63</td>\n",
       "      <td>13</td>\n",
       "      <td>25.0</td>\n",
       "      <td>101.33</td>\n",
       "      <td>Clear</td>\n",
       "      <td>CLEAR</td>\n",
       "    </tr>\n",
       "    <tr>\n",
       "      <th>1580</th>\n",
       "      <td>3/6/2012 20:00</td>\n",
       "      <td>-5.3</td>\n",
       "      <td>-13.6</td>\n",
       "      <td>52</td>\n",
       "      <td>9</td>\n",
       "      <td>25.0</td>\n",
       "      <td>102.72</td>\n",
       "      <td>Mainly Clear</td>\n",
       "      <td>CLEAR</td>\n",
       "    </tr>\n",
       "    <tr>\n",
       "      <th>8298</th>\n",
       "      <td>12/11/2012 18:00</td>\n",
       "      <td>-6.9</td>\n",
       "      <td>-11.5</td>\n",
       "      <td>70</td>\n",
       "      <td>13</td>\n",
       "      <td>25.0</td>\n",
       "      <td>101.51</td>\n",
       "      <td>Clear</td>\n",
       "      <td>CLEAR</td>\n",
       "    </tr>\n",
       "  </tbody>\n",
       "</table>\n",
       "<p>600 rows × 9 columns</p>\n",
       "</div>"
      ],
      "text/plain": [
       "             Date/Time  Temp_C  Dew Point Temp_C  Rel Hum_%  Wind Speed_km/h  \\\n",
       "698     1/30/2012 2:00    -5.1             -10.0         68               15   \n",
       "5268    8/7/2012 12:00    26.5              16.1         53               17   \n",
       "7718  11/17/2012 14:00     2.8              -7.4         47                6   \n",
       "7757   11/19/2012 5:00    -4.0              -7.1         79                9   \n",
       "4808    7/19/2012 8:00    18.4               9.4         56                6   \n",
       "...                ...     ...               ...        ...              ...   \n",
       "8174   12/6/2012 14:00    -0.9              -8.7         55               13   \n",
       "7585   11/12/2012 1:00     0.6              -0.8         90               17   \n",
       "701     1/30/2012 5:00    -7.9             -13.8         63               13   \n",
       "1580    3/6/2012 20:00    -5.3             -13.6         52                9   \n",
       "8298  12/11/2012 18:00    -6.9             -11.5         70               13   \n",
       "\n",
       "      Visibility_km  Press_kPa       Weather Std_Weather  \n",
       "698            25.0     100.99         Clear       CLEAR  \n",
       "5268           48.3     100.90  Mainly Clear       CLEAR  \n",
       "7718           48.3     103.43  Mainly Clear       CLEAR  \n",
       "7757           25.0     103.03  Mainly Clear       CLEAR  \n",
       "4808           48.3     101.28  Mainly Clear       CLEAR  \n",
       "...             ...        ...           ...         ...  \n",
       "8174           48.3     102.21  Mainly Clear       CLEAR  \n",
       "7585           25.0     101.97  Mainly Clear       CLEAR  \n",
       "701            25.0     101.33         Clear       CLEAR  \n",
       "1580           25.0     102.72  Mainly Clear       CLEAR  \n",
       "8298           25.0     101.51         Clear       CLEAR  \n",
       "\n",
       "[600 rows x 9 columns]"
      ]
     },
     "execution_count": 26,
     "metadata": {},
     "output_type": "execute_result"
    }
   ],
   "source": [
    "clear_df=data[data['Std_Weather']=='CLEAR'].sample(600)\n",
    "clear_df"
   ]
  },
  {
   "cell_type": "code",
   "execution_count": 27,
   "id": "4c7b263e-74a0-4fce-93ff-36f9b36f1d74",
   "metadata": {},
   "outputs": [],
   "source": [
    "rain_df=data[data['Std_Weather']=='RAIN']\n",
    "snow_df=data[data['Std_Weather']=='SNOW']\n"
   ]
  },
  {
   "cell_type": "code",
   "execution_count": 28,
   "id": "6eead69c-d944-4237-9c29-371ba97699a2",
   "metadata": {},
   "outputs": [
    {
     "data": {
      "text/plain": [
       "(603, 9)"
      ]
     },
     "execution_count": 28,
     "metadata": {},
     "output_type": "execute_result"
    }
   ],
   "source": [
    "rain_df.shape"
   ]
  },
  {
   "cell_type": "code",
   "execution_count": 29,
   "id": "a18099e2-f93f-4272-94e9-265ff2108b26",
   "metadata": {},
   "outputs": [
    {
     "data": {
      "text/plain": [
       "(556, 9)"
      ]
     },
     "execution_count": 29,
     "metadata": {},
     "output_type": "execute_result"
    }
   ],
   "source": [
    "snow_df.shape"
   ]
  },
  {
   "cell_type": "markdown",
   "id": "033405d8-dc9c-4995-b82a-a2f92477f391",
   "metadata": {},
   "source": [
    "**create new weather dataset**"
   ]
  },
  {
   "cell_type": "code",
   "execution_count": 30,
   "id": "f0699b0a-1a13-48d3-8d1e-4f94bf964b2e",
   "metadata": {},
   "outputs": [
    {
     "data": {
      "text/html": [
       "<div>\n",
       "<style scoped>\n",
       "    .dataframe tbody tr th:only-of-type {\n",
       "        vertical-align: middle;\n",
       "    }\n",
       "\n",
       "    .dataframe tbody tr th {\n",
       "        vertical-align: top;\n",
       "    }\n",
       "\n",
       "    .dataframe thead th {\n",
       "        text-align: right;\n",
       "    }\n",
       "</style>\n",
       "<table border=\"1\" class=\"dataframe\">\n",
       "  <thead>\n",
       "    <tr style=\"text-align: right;\">\n",
       "      <th></th>\n",
       "      <th>Date/Time</th>\n",
       "      <th>Temp_C</th>\n",
       "      <th>Dew Point Temp_C</th>\n",
       "      <th>Rel Hum_%</th>\n",
       "      <th>Wind Speed_km/h</th>\n",
       "      <th>Visibility_km</th>\n",
       "      <th>Press_kPa</th>\n",
       "      <th>Weather</th>\n",
       "      <th>Std_Weather</th>\n",
       "    </tr>\n",
       "  </thead>\n",
       "  <tbody>\n",
       "    <tr>\n",
       "      <th>2027</th>\n",
       "      <td>3/25/2012 11:00</td>\n",
       "      <td>5.2</td>\n",
       "      <td>3.6</td>\n",
       "      <td>89</td>\n",
       "      <td>6</td>\n",
       "      <td>16.1</td>\n",
       "      <td>100.58</td>\n",
       "      <td>Cloudy</td>\n",
       "      <td>CLOUDY</td>\n",
       "    </tr>\n",
       "    <tr>\n",
       "      <th>4871</th>\n",
       "      <td>7/21/2012 23:00</td>\n",
       "      <td>22.9</td>\n",
       "      <td>14.4</td>\n",
       "      <td>59</td>\n",
       "      <td>9</td>\n",
       "      <td>25.0</td>\n",
       "      <td>101.19</td>\n",
       "      <td>Cloudy</td>\n",
       "      <td>CLOUDY</td>\n",
       "    </tr>\n",
       "    <tr>\n",
       "      <th>5363</th>\n",
       "      <td>8/11/2012 11:00</td>\n",
       "      <td>23.9</td>\n",
       "      <td>19.8</td>\n",
       "      <td>78</td>\n",
       "      <td>13</td>\n",
       "      <td>24.1</td>\n",
       "      <td>100.61</td>\n",
       "      <td>Mostly Cloudy</td>\n",
       "      <td>CLOUDY</td>\n",
       "    </tr>\n",
       "    <tr>\n",
       "      <th>6462</th>\n",
       "      <td>9/26/2012 6:00</td>\n",
       "      <td>15.0</td>\n",
       "      <td>9.1</td>\n",
       "      <td>68</td>\n",
       "      <td>17</td>\n",
       "      <td>24.1</td>\n",
       "      <td>100.86</td>\n",
       "      <td>Cloudy</td>\n",
       "      <td>CLOUDY</td>\n",
       "    </tr>\n",
       "    <tr>\n",
       "      <th>5412</th>\n",
       "      <td>8/13/2012 12:00</td>\n",
       "      <td>23.8</td>\n",
       "      <td>17.4</td>\n",
       "      <td>67</td>\n",
       "      <td>17</td>\n",
       "      <td>24.1</td>\n",
       "      <td>100.85</td>\n",
       "      <td>Mostly Cloudy</td>\n",
       "      <td>CLOUDY</td>\n",
       "    </tr>\n",
       "  </tbody>\n",
       "</table>\n",
       "</div>"
      ],
      "text/plain": [
       "            Date/Time  Temp_C  Dew Point Temp_C  Rel Hum_%  Wind Speed_km/h  \\\n",
       "2027  3/25/2012 11:00     5.2               3.6         89                6   \n",
       "4871  7/21/2012 23:00    22.9              14.4         59                9   \n",
       "5363  8/11/2012 11:00    23.9              19.8         78               13   \n",
       "6462   9/26/2012 6:00    15.0               9.1         68               17   \n",
       "5412  8/13/2012 12:00    23.8              17.4         67               17   \n",
       "\n",
       "      Visibility_km  Press_kPa        Weather Std_Weather  \n",
       "2027           16.1     100.58         Cloudy      CLOUDY  \n",
       "4871           25.0     101.19         Cloudy      CLOUDY  \n",
       "5363           24.1     100.61  Mostly Cloudy      CLOUDY  \n",
       "6462           24.1     100.86         Cloudy      CLOUDY  \n",
       "5412           24.1     100.85  Mostly Cloudy      CLOUDY  "
      ]
     },
     "execution_count": 30,
     "metadata": {},
     "output_type": "execute_result"
    }
   ],
   "source": [
    "weather_df=pd.concat([cloudy_df,clear_df,rain_df,snow_df], axis=0)\n",
    "weather_df.head()"
   ]
  },
  {
   "cell_type": "code",
   "execution_count": 31,
   "id": "d1e1df7e-1106-4a4c-8498-31b9fdaeecab",
   "metadata": {},
   "outputs": [
    {
     "data": {
      "text/plain": [
       "(2359, 9)"
      ]
     },
     "execution_count": 31,
     "metadata": {},
     "output_type": "execute_result"
    }
   ],
   "source": [
    "weather_df.shape"
   ]
  },
  {
   "cell_type": "code",
   "execution_count": 32,
   "id": "8a95cdaa-115b-406e-86a4-be405b4dd3ed",
   "metadata": {},
   "outputs": [
    {
     "data": {
      "text/plain": [
       "Std_Weather\n",
       "RAIN      603\n",
       "CLOUDY    600\n",
       "CLEAR     600\n",
       "SNOW      556\n",
       "Name: count, dtype: int64"
      ]
     },
     "execution_count": 32,
     "metadata": {},
     "output_type": "execute_result"
    }
   ],
   "source": [
    "weather_df.Std_Weather.value_counts()"
   ]
  },
  {
   "cell_type": "code",
   "execution_count": 33,
   "id": "1f3b7275-52d1-4313-a40e-0540c60cf19d",
   "metadata": {},
   "outputs": [],
   "source": [
    "weather_df.drop(columns=['Date/Time','Weather'],axis=1,inplace=True)"
   ]
  },
  {
   "cell_type": "code",
   "execution_count": 34,
   "id": "df8a7c01-549f-430d-8444-191b52baa9ab",
   "metadata": {},
   "outputs": [
    {
     "data": {
      "text/html": [
       "<div>\n",
       "<style scoped>\n",
       "    .dataframe tbody tr th:only-of-type {\n",
       "        vertical-align: middle;\n",
       "    }\n",
       "\n",
       "    .dataframe tbody tr th {\n",
       "        vertical-align: top;\n",
       "    }\n",
       "\n",
       "    .dataframe thead th {\n",
       "        text-align: right;\n",
       "    }\n",
       "</style>\n",
       "<table border=\"1\" class=\"dataframe\">\n",
       "  <thead>\n",
       "    <tr style=\"text-align: right;\">\n",
       "      <th></th>\n",
       "      <th>Temp_C</th>\n",
       "      <th>Dew Point Temp_C</th>\n",
       "      <th>Rel Hum_%</th>\n",
       "      <th>Wind Speed_km/h</th>\n",
       "      <th>Visibility_km</th>\n",
       "      <th>Press_kPa</th>\n",
       "      <th>Std_Weather</th>\n",
       "    </tr>\n",
       "  </thead>\n",
       "  <tbody>\n",
       "    <tr>\n",
       "      <th>2027</th>\n",
       "      <td>5.2</td>\n",
       "      <td>3.6</td>\n",
       "      <td>89</td>\n",
       "      <td>6</td>\n",
       "      <td>16.1</td>\n",
       "      <td>100.58</td>\n",
       "      <td>CLOUDY</td>\n",
       "    </tr>\n",
       "    <tr>\n",
       "      <th>4871</th>\n",
       "      <td>22.9</td>\n",
       "      <td>14.4</td>\n",
       "      <td>59</td>\n",
       "      <td>9</td>\n",
       "      <td>25.0</td>\n",
       "      <td>101.19</td>\n",
       "      <td>CLOUDY</td>\n",
       "    </tr>\n",
       "    <tr>\n",
       "      <th>5363</th>\n",
       "      <td>23.9</td>\n",
       "      <td>19.8</td>\n",
       "      <td>78</td>\n",
       "      <td>13</td>\n",
       "      <td>24.1</td>\n",
       "      <td>100.61</td>\n",
       "      <td>CLOUDY</td>\n",
       "    </tr>\n",
       "    <tr>\n",
       "      <th>6462</th>\n",
       "      <td>15.0</td>\n",
       "      <td>9.1</td>\n",
       "      <td>68</td>\n",
       "      <td>17</td>\n",
       "      <td>24.1</td>\n",
       "      <td>100.86</td>\n",
       "      <td>CLOUDY</td>\n",
       "    </tr>\n",
       "    <tr>\n",
       "      <th>5412</th>\n",
       "      <td>23.8</td>\n",
       "      <td>17.4</td>\n",
       "      <td>67</td>\n",
       "      <td>17</td>\n",
       "      <td>24.1</td>\n",
       "      <td>100.85</td>\n",
       "      <td>CLOUDY</td>\n",
       "    </tr>\n",
       "  </tbody>\n",
       "</table>\n",
       "</div>"
      ],
      "text/plain": [
       "      Temp_C  Dew Point Temp_C  Rel Hum_%  Wind Speed_km/h  Visibility_km  \\\n",
       "2027     5.2               3.6         89                6           16.1   \n",
       "4871    22.9              14.4         59                9           25.0   \n",
       "5363    23.9              19.8         78               13           24.1   \n",
       "6462    15.0               9.1         68               17           24.1   \n",
       "5412    23.8              17.4         67               17           24.1   \n",
       "\n",
       "      Press_kPa Std_Weather  \n",
       "2027     100.58      CLOUDY  \n",
       "4871     101.19      CLOUDY  \n",
       "5363     100.61      CLOUDY  \n",
       "6462     100.86      CLOUDY  \n",
       "5412     100.85      CLOUDY  "
      ]
     },
     "execution_count": 34,
     "metadata": {},
     "output_type": "execute_result"
    }
   ],
   "source": [
    "weather_df.head()"
   ]
  },
  {
   "cell_type": "markdown",
   "id": "4dbf1360-f54b-48ce-a0b2-f45ced1559da",
   "metadata": {},
   "source": [
    "**duplicated records**"
   ]
  },
  {
   "cell_type": "code",
   "execution_count": 36,
   "id": "95993cf5-814c-4596-a264-c1ae1b5cb602",
   "metadata": {},
   "outputs": [
    {
     "data": {
      "text/html": [
       "<div>\n",
       "<style scoped>\n",
       "    .dataframe tbody tr th:only-of-type {\n",
       "        vertical-align: middle;\n",
       "    }\n",
       "\n",
       "    .dataframe tbody tr th {\n",
       "        vertical-align: top;\n",
       "    }\n",
       "\n",
       "    .dataframe thead th {\n",
       "        text-align: right;\n",
       "    }\n",
       "</style>\n",
       "<table border=\"1\" class=\"dataframe\">\n",
       "  <thead>\n",
       "    <tr style=\"text-align: right;\">\n",
       "      <th></th>\n",
       "      <th>Temp_C</th>\n",
       "      <th>Dew Point Temp_C</th>\n",
       "      <th>Rel Hum_%</th>\n",
       "      <th>Wind Speed_km/h</th>\n",
       "      <th>Visibility_km</th>\n",
       "      <th>Press_kPa</th>\n",
       "      <th>Std_Weather</th>\n",
       "    </tr>\n",
       "  </thead>\n",
       "  <tbody>\n",
       "  </tbody>\n",
       "</table>\n",
       "</div>"
      ],
      "text/plain": [
       "Empty DataFrame\n",
       "Columns: [Temp_C, Dew Point Temp_C, Rel Hum_%, Wind Speed_km/h, Visibility_km, Press_kPa, Std_Weather]\n",
       "Index: []"
      ]
     },
     "execution_count": 36,
     "metadata": {},
     "output_type": "execute_result"
    }
   ],
   "source": [
    "weather_df[weather_df.duplicated()]"
   ]
  },
  {
   "cell_type": "markdown",
   "id": "c241a511-549b-4313-85fa-b5cc6dc18b82",
   "metadata": {},
   "source": [
    "**null or missing values**"
   ]
  },
  {
   "cell_type": "code",
   "execution_count": 37,
   "id": "564a02ff-70fa-42ff-9642-4a696fab3749",
   "metadata": {},
   "outputs": [
    {
     "data": {
      "text/plain": [
       "Temp_C              0\n",
       "Dew Point Temp_C    0\n",
       "Rel Hum_%           0\n",
       "Wind Speed_km/h     0\n",
       "Visibility_km       0\n",
       "Press_kPa           0\n",
       "Std_Weather         0\n",
       "dtype: int64"
      ]
     },
     "execution_count": 37,
     "metadata": {},
     "output_type": "execute_result"
    }
   ],
   "source": [
    "weather_df.isnull().sum()"
   ]
  },
  {
   "cell_type": "code",
   "execution_count": 38,
   "id": "fd38a8ca-80c2-4d11-9931-cd30a2145b53",
   "metadata": {},
   "outputs": [
    {
     "data": {
      "text/plain": [
       "Temp_C              float64\n",
       "Dew Point Temp_C    float64\n",
       "Rel Hum_%             int64\n",
       "Wind Speed_km/h       int64\n",
       "Visibility_km       float64\n",
       "Press_kPa           float64\n",
       "Std_Weather          object\n",
       "dtype: object"
      ]
     },
     "execution_count": 38,
     "metadata": {},
     "output_type": "execute_result"
    }
   ],
   "source": [
    "weather_df.dtypes"
   ]
  },
  {
   "cell_type": "markdown",
   "id": "e61242ab-e497-4c2e-b104-28235d09fb2d",
   "metadata": {},
   "source": [
    "**Data Visuallization**"
   ]
  },
  {
   "cell_type": "code",
   "execution_count": 39,
   "id": "21d7b3cf-0754-4475-b6fc-4b63d4075dcd",
   "metadata": {},
   "outputs": [
    {
     "data": {
      "text/html": [
       "<div>\n",
       "<style scoped>\n",
       "    .dataframe tbody tr th:only-of-type {\n",
       "        vertical-align: middle;\n",
       "    }\n",
       "\n",
       "    .dataframe tbody tr th {\n",
       "        vertical-align: top;\n",
       "    }\n",
       "\n",
       "    .dataframe thead th {\n",
       "        text-align: right;\n",
       "    }\n",
       "</style>\n",
       "<table border=\"1\" class=\"dataframe\">\n",
       "  <thead>\n",
       "    <tr style=\"text-align: right;\">\n",
       "      <th></th>\n",
       "      <th>Temp_C</th>\n",
       "      <th>Dew Point Temp_C</th>\n",
       "      <th>Rel Hum_%</th>\n",
       "      <th>Wind Speed_km/h</th>\n",
       "      <th>Visibility_km</th>\n",
       "      <th>Press_kPa</th>\n",
       "    </tr>\n",
       "  </thead>\n",
       "  <tbody>\n",
       "    <tr>\n",
       "      <th>count</th>\n",
       "      <td>2359.000000</td>\n",
       "      <td>2359.000000</td>\n",
       "      <td>2359.000000</td>\n",
       "      <td>2359.000000</td>\n",
       "      <td>2359.000000</td>\n",
       "      <td>2359.000000</td>\n",
       "    </tr>\n",
       "    <tr>\n",
       "      <th>mean</th>\n",
       "      <td>6.806910</td>\n",
       "      <td>1.631284</td>\n",
       "      <td>71.916066</td>\n",
       "      <td>16.778720</td>\n",
       "      <td>23.281772</td>\n",
       "      <td>100.802912</td>\n",
       "    </tr>\n",
       "    <tr>\n",
       "      <th>std</th>\n",
       "      <td>11.436226</td>\n",
       "      <td>10.519204</td>\n",
       "      <td>16.096631</td>\n",
       "      <td>9.303125</td>\n",
       "      <td>12.790661</td>\n",
       "      <td>0.905599</td>\n",
       "    </tr>\n",
       "    <tr>\n",
       "      <th>min</th>\n",
       "      <td>-23.300000</td>\n",
       "      <td>-28.500000</td>\n",
       "      <td>21.000000</td>\n",
       "      <td>0.000000</td>\n",
       "      <td>0.600000</td>\n",
       "      <td>97.520000</td>\n",
       "    </tr>\n",
       "    <tr>\n",
       "      <th>25%</th>\n",
       "      <td>-2.700000</td>\n",
       "      <td>-6.700000</td>\n",
       "      <td>61.000000</td>\n",
       "      <td>9.000000</td>\n",
       "      <td>16.100000</td>\n",
       "      <td>100.310000</td>\n",
       "    </tr>\n",
       "    <tr>\n",
       "      <th>50%</th>\n",
       "      <td>5.500000</td>\n",
       "      <td>0.500000</td>\n",
       "      <td>75.000000</td>\n",
       "      <td>15.000000</td>\n",
       "      <td>24.100000</td>\n",
       "      <td>100.840000</td>\n",
       "    </tr>\n",
       "    <tr>\n",
       "      <th>75%</th>\n",
       "      <td>16.600000</td>\n",
       "      <td>10.500000</td>\n",
       "      <td>85.000000</td>\n",
       "      <td>22.000000</td>\n",
       "      <td>25.000000</td>\n",
       "      <td>101.380000</td>\n",
       "    </tr>\n",
       "    <tr>\n",
       "      <th>max</th>\n",
       "      <td>33.000000</td>\n",
       "      <td>23.100000</td>\n",
       "      <td>99.000000</td>\n",
       "      <td>70.000000</td>\n",
       "      <td>48.300000</td>\n",
       "      <td>103.590000</td>\n",
       "    </tr>\n",
       "  </tbody>\n",
       "</table>\n",
       "</div>"
      ],
      "text/plain": [
       "            Temp_C  Dew Point Temp_C    Rel Hum_%  Wind Speed_km/h  \\\n",
       "count  2359.000000       2359.000000  2359.000000      2359.000000   \n",
       "mean      6.806910          1.631284    71.916066        16.778720   \n",
       "std      11.436226         10.519204    16.096631         9.303125   \n",
       "min     -23.300000        -28.500000    21.000000         0.000000   \n",
       "25%      -2.700000         -6.700000    61.000000         9.000000   \n",
       "50%       5.500000          0.500000    75.000000        15.000000   \n",
       "75%      16.600000         10.500000    85.000000        22.000000   \n",
       "max      33.000000         23.100000    99.000000        70.000000   \n",
       "\n",
       "       Visibility_km    Press_kPa  \n",
       "count    2359.000000  2359.000000  \n",
       "mean       23.281772   100.802912  \n",
       "std        12.790661     0.905599  \n",
       "min         0.600000    97.520000  \n",
       "25%        16.100000   100.310000  \n",
       "50%        24.100000   100.840000  \n",
       "75%        25.000000   101.380000  \n",
       "max        48.300000   103.590000  "
      ]
     },
     "execution_count": 39,
     "metadata": {},
     "output_type": "execute_result"
    }
   ],
   "source": [
    "weather_df.describe()"
   ]
  },
  {
   "cell_type": "markdown",
   "id": "6563998f-945e-4051-99c0-f8ca1f2905a8",
   "metadata": {},
   "source": [
    " **Correlation among the features**"
   ]
  },
  {
   "cell_type": "code",
   "execution_count": 40,
   "id": "4f5ce4ce-b198-473d-a7d1-1bcc427b94ae",
   "metadata": {},
   "outputs": [],
   "source": [
    "cols = ['Temp_C','Dew Point Temp_C','Rel Hum_%','Wind Speed_km/h',\n",
    "      'Visibility_km','Press_kPa']"
   ]
  },
  {
   "cell_type": "code",
   "execution_count": 41,
   "id": "8fa8ccc4-90f3-4715-8ef2-57f94821c29e",
   "metadata": {},
   "outputs": [
    {
     "data": {
      "text/html": [
       "<div>\n",
       "<style scoped>\n",
       "    .dataframe tbody tr th:only-of-type {\n",
       "        vertical-align: middle;\n",
       "    }\n",
       "\n",
       "    .dataframe tbody tr th {\n",
       "        vertical-align: top;\n",
       "    }\n",
       "\n",
       "    .dataframe thead th {\n",
       "        text-align: right;\n",
       "    }\n",
       "</style>\n",
       "<table border=\"1\" class=\"dataframe\">\n",
       "  <thead>\n",
       "    <tr style=\"text-align: right;\">\n",
       "      <th></th>\n",
       "      <th>Temp_C</th>\n",
       "      <th>Dew Point Temp_C</th>\n",
       "      <th>Rel Hum_%</th>\n",
       "      <th>Wind Speed_km/h</th>\n",
       "      <th>Visibility_km</th>\n",
       "      <th>Press_kPa</th>\n",
       "    </tr>\n",
       "  </thead>\n",
       "  <tbody>\n",
       "    <tr>\n",
       "      <th>Temp_C</th>\n",
       "      <td>1.000000</td>\n",
       "      <td>0.941416</td>\n",
       "      <td>-0.263147</td>\n",
       "      <td>-0.144831</td>\n",
       "      <td>0.413224</td>\n",
       "      <td>-0.077706</td>\n",
       "    </tr>\n",
       "    <tr>\n",
       "      <th>Dew Point Temp_C</th>\n",
       "      <td>0.941416</td>\n",
       "      <td>1.000000</td>\n",
       "      <td>0.071641</td>\n",
       "      <td>-0.142133</td>\n",
       "      <td>0.200251</td>\n",
       "      <td>-0.190137</td>\n",
       "    </tr>\n",
       "    <tr>\n",
       "      <th>Rel Hum_%</th>\n",
       "      <td>-0.263147</td>\n",
       "      <td>0.071641</td>\n",
       "      <td>1.000000</td>\n",
       "      <td>0.026296</td>\n",
       "      <td>-0.669288</td>\n",
       "      <td>-0.336434</td>\n",
       "    </tr>\n",
       "    <tr>\n",
       "      <th>Wind Speed_km/h</th>\n",
       "      <td>-0.144831</td>\n",
       "      <td>-0.142133</td>\n",
       "      <td>0.026296</td>\n",
       "      <td>1.000000</td>\n",
       "      <td>-0.136526</td>\n",
       "      <td>-0.384069</td>\n",
       "    </tr>\n",
       "    <tr>\n",
       "      <th>Visibility_km</th>\n",
       "      <td>0.413224</td>\n",
       "      <td>0.200251</td>\n",
       "      <td>-0.669288</td>\n",
       "      <td>-0.136526</td>\n",
       "      <td>1.000000</td>\n",
       "      <td>0.345305</td>\n",
       "    </tr>\n",
       "    <tr>\n",
       "      <th>Press_kPa</th>\n",
       "      <td>-0.077706</td>\n",
       "      <td>-0.190137</td>\n",
       "      <td>-0.336434</td>\n",
       "      <td>-0.384069</td>\n",
       "      <td>0.345305</td>\n",
       "      <td>1.000000</td>\n",
       "    </tr>\n",
       "  </tbody>\n",
       "</table>\n",
       "</div>"
      ],
      "text/plain": [
       "                    Temp_C  Dew Point Temp_C  Rel Hum_%  Wind Speed_km/h  \\\n",
       "Temp_C            1.000000          0.941416  -0.263147        -0.144831   \n",
       "Dew Point Temp_C  0.941416          1.000000   0.071641        -0.142133   \n",
       "Rel Hum_%        -0.263147          0.071641   1.000000         0.026296   \n",
       "Wind Speed_km/h  -0.144831         -0.142133   0.026296         1.000000   \n",
       "Visibility_km     0.413224          0.200251  -0.669288        -0.136526   \n",
       "Press_kPa        -0.077706         -0.190137  -0.336434        -0.384069   \n",
       "\n",
       "                  Visibility_km  Press_kPa  \n",
       "Temp_C                 0.413224  -0.077706  \n",
       "Dew Point Temp_C       0.200251  -0.190137  \n",
       "Rel Hum_%             -0.669288  -0.336434  \n",
       "Wind Speed_km/h       -0.136526  -0.384069  \n",
       "Visibility_km          1.000000   0.345305  \n",
       "Press_kPa              0.345305   1.000000  "
      ]
     },
     "execution_count": 41,
     "metadata": {},
     "output_type": "execute_result"
    }
   ],
   "source": [
    "cor_matrix = weather_df[cols].corr()\n",
    "cor_matrix"
   ]
  },
  {
   "cell_type": "code",
   "execution_count": 121,
   "id": "8db92c7d-221c-46ec-a631-02f762a52492",
   "metadata": {},
   "outputs": [
    {
     "data": {
      "text/plain": [
       "Index(['Temp_C', 'Dew Point Temp_C', 'Rel Hum_%', 'Wind Speed_km/h',\n",
       "       'Visibility_km', 'Press_kPa', 'Std_Weather'],\n",
       "      dtype='object')"
      ]
     },
     "execution_count": 121,
     "metadata": {},
     "output_type": "execute_result"
    }
   ],
   "source": [
    "weather_df.columns"
   ]
  },
  {
   "cell_type": "code",
   "execution_count": 122,
   "id": "7254d553-e6c2-4dd0-b13f-c2a831632abc",
   "metadata": {},
   "outputs": [
    {
     "data": {
      "text/plain": [
       "<Axes: ylabel='Frequency'>"
      ]
     },
     "execution_count": 122,
     "metadata": {},
     "output_type": "execute_result"
    },
    {
     "data": {
      "image/png": "[encoded data removed]",
      "text/plain": [
       "<Figure size 640x480 with 1 Axes>"
      ]
     },
     "metadata": {},
     "output_type": "display_data"
    }
   ],
   "source": [
    "weather_df['Temp_C'].plot(kind='hist')"
   ]
  },
  {
   "cell_type": "code",
   "execution_count": 123,
   "id": "edee4e4b-4db5-4284-b5fb-b4b5d07e523a",
   "metadata": {},
   "outputs": [
    {
     "data": {
      "text/plain": [
       "<Axes: ylabel='Frequency'>"
      ]
     },
     "execution_count": 123,
     "metadata": {},
     "output_type": "execute_result"
    },
    {
     "data": {
      "image/png": "[encoded data removed]",
      "text/plain": [
       "<Figure size 640x480 with 1 Axes>"
      ]
     },
     "metadata": {},
     "output_type": "display_data"
    }
   ],
   "source": [
    "weather_df['Dew Point Temp_C'].plot(kind='hist')"
   ]
  },
  {
   "cell_type": "code",
   "execution_count": 124,
   "id": "0abfd7b9-6ccd-47c3-8c17-4f423fb48c97",
   "metadata": {},
   "outputs": [
    {
     "data": {
      "text/plain": [
       "<Axes: ylabel='Frequency'>"
      ]
     },
     "execution_count": 124,
     "metadata": {},
     "output_type": "execute_result"
    },
    {
     "data": {
      "image/png": "[encoded data removed]",
      "text/plain": [
       "<Figure size 640x480 with 1 Axes>"
      ]
     },
     "metadata": {},
     "output_type": "display_data"
    }
   ],
   "source": [
    "weather_df['Rel Hum_%'].plot(kind='hist')"
   ]
  },
  {
   "cell_type": "code",
   "execution_count": 125,
   "id": "e3cb509c-ec52-44bf-b13e-07194068c169",
   "metadata": {},
   "outputs": [
    {
     "data": {
      "text/plain": [
       "<Axes: ylabel='Frequency'>"
      ]
     },
     "execution_count": 125,
     "metadata": {},
     "output_type": "execute_result"
    },
    {
     "data": {
      "image/png": "[encoded data removed]",
      "text/plain": [
       "<Figure size 640x480 with 1 Axes>"
      ]
     },
     "metadata": {},
     "output_type": "display_data"
    }
   ],
   "source": [
    "weather_df['Wind Speed_km/h'].plot(kind='hist')"
   ]
  },
  {
   "cell_type": "code",
   "execution_count": 126,
   "id": "0719b69a-4269-46cc-a897-d1904d44a748",
   "metadata": {},
   "outputs": [
    {
     "data": {
      "text/plain": [
       "<Axes: ylabel='Frequency'>"
      ]
     },
     "execution_count": 126,
     "metadata": {},
     "output_type": "execute_result"
    },
    {
     "data": {
      "image/png": "[encoded data removed]",
      "text/plain": [
       "<Figure size 640x480 with 1 Axes>"
      ]
     },
     "metadata": {},
     "output_type": "display_data"
    }
   ],
   "source": [
    "weather_df['Visibility_km'].plot(kind='hist')"
   ]
  },
  {
   "cell_type": "code",
   "execution_count": 127,
   "id": "3ce7670c-e99a-4bdd-ac4d-ec9ca16e3f48",
   "metadata": {},
   "outputs": [
    {
     "data": {
      "text/plain": [
       "<Axes: >"
      ]
     },
     "execution_count": 127,
     "metadata": {},
     "output_type": "execute_result"
    },
    {
     "data": {
      "image/png": "[encoded data removed]",
      "text/plain": [
       "<Figure size 640x480 with 1 Axes>"
      ]
     },
     "metadata": {},
     "output_type": "display_data"
    }
   ],
   "source": [
    "weather_df['Wind Speed_km/h'].plot(kind='box')"
   ]
  },
  {
   "cell_type": "code",
   "execution_count": 128,
   "id": "e18a9dcd-e19c-461b-b7ff-acb371d942d0",
   "metadata": {},
   "outputs": [
    {
     "data": {
      "text/plain": [
       "<Axes: >"
      ]
     },
     "execution_count": 128,
     "metadata": {},
     "output_type": "execute_result"
    },
    {
     "data": {
      "image/png": "[encoded data removed]",
      "text/plain": [
       "<Figure size 640x480 with 1 Axes>"
      ]
     },
     "metadata": {},
     "output_type": "display_data"
    }
   ],
   "source": [
    "weather_df['Visibility_km'].plot(kind='box')"
   ]
  },
  {
   "cell_type": "code",
   "execution_count": 68,
   "id": "4c45c795-d56d-4a45-951f-40ea8292c964",
   "metadata": {},
   "outputs": [
    {
     "data": {
      "text/html": [
       "<div>\n",
       "<style scoped>\n",
       "    .dataframe tbody tr th:only-of-type {\n",
       "        vertical-align: middle;\n",
       "    }\n",
       "\n",
       "    .dataframe tbody tr th {\n",
       "        vertical-align: top;\n",
       "    }\n",
       "\n",
       "    .dataframe thead th {\n",
       "        text-align: right;\n",
       "    }\n",
       "</style>\n",
       "<table border=\"1\" class=\"dataframe\">\n",
       "  <thead>\n",
       "    <tr style=\"text-align: right;\">\n",
       "      <th></th>\n",
       "      <th>Temp_C</th>\n",
       "      <th>Dew Point Temp_C</th>\n",
       "      <th>Rel Hum_%</th>\n",
       "      <th>Wind Speed_km/h</th>\n",
       "      <th>Visibility_km</th>\n",
       "      <th>Press_kPa</th>\n",
       "      <th>Std_Weather</th>\n",
       "    </tr>\n",
       "  </thead>\n",
       "  <tbody>\n",
       "    <tr>\n",
       "      <th>2027</th>\n",
       "      <td>5.2</td>\n",
       "      <td>3.6</td>\n",
       "      <td>89</td>\n",
       "      <td>6</td>\n",
       "      <td>16.1</td>\n",
       "      <td>100.58</td>\n",
       "      <td>CLOUDY</td>\n",
       "    </tr>\n",
       "    <tr>\n",
       "      <th>4871</th>\n",
       "      <td>22.9</td>\n",
       "      <td>14.4</td>\n",
       "      <td>59</td>\n",
       "      <td>9</td>\n",
       "      <td>25.0</td>\n",
       "      <td>101.19</td>\n",
       "      <td>CLOUDY</td>\n",
       "    </tr>\n",
       "    <tr>\n",
       "      <th>5363</th>\n",
       "      <td>23.9</td>\n",
       "      <td>19.8</td>\n",
       "      <td>78</td>\n",
       "      <td>13</td>\n",
       "      <td>24.1</td>\n",
       "      <td>100.61</td>\n",
       "      <td>CLOUDY</td>\n",
       "    </tr>\n",
       "    <tr>\n",
       "      <th>6462</th>\n",
       "      <td>15.0</td>\n",
       "      <td>9.1</td>\n",
       "      <td>68</td>\n",
       "      <td>17</td>\n",
       "      <td>24.1</td>\n",
       "      <td>100.86</td>\n",
       "      <td>CLOUDY</td>\n",
       "    </tr>\n",
       "    <tr>\n",
       "      <th>5412</th>\n",
       "      <td>23.8</td>\n",
       "      <td>17.4</td>\n",
       "      <td>67</td>\n",
       "      <td>17</td>\n",
       "      <td>24.1</td>\n",
       "      <td>100.85</td>\n",
       "      <td>CLOUDY</td>\n",
       "    </tr>\n",
       "  </tbody>\n",
       "</table>\n",
       "</div>"
      ],
      "text/plain": [
       "      Temp_C  Dew Point Temp_C  Rel Hum_%  Wind Speed_km/h  Visibility_km  \\\n",
       "2027     5.2               3.6         89                6           16.1   \n",
       "4871    22.9              14.4         59                9           25.0   \n",
       "5363    23.9              19.8         78               13           24.1   \n",
       "6462    15.0               9.1         68               17           24.1   \n",
       "5412    23.8              17.4         67               17           24.1   \n",
       "\n",
       "      Press_kPa Std_Weather  \n",
       "2027     100.58      CLOUDY  \n",
       "4871     101.19      CLOUDY  \n",
       "5363     100.61      CLOUDY  \n",
       "6462     100.86      CLOUDY  \n",
       "5412     100.85      CLOUDY  "
      ]
     },
     "execution_count": 68,
     "metadata": {},
     "output_type": "execute_result"
    }
   ],
   "source": [
    "weather_df.head()"
   ]
  },
  {
   "cell_type": "markdown",
   "id": "0af48b63-af2d-4cac-9756-4500e3099223",
   "metadata": {},
   "source": [
    "**Label Encoding**"
   ]
  },
  {
   "cell_type": "code",
   "execution_count": 83,
   "id": "b54bc77e-df36-4989-b90f-7870cb971d8d",
   "metadata": {},
   "outputs": [],
   "source": [
    "from sklearn.preprocessing import LabelEncoder"
   ]
  },
  {
   "cell_type": "code",
   "execution_count": 85,
   "id": "b1090208-c1d9-48e1-8633-107f34e1efc0",
   "metadata": {},
   "outputs": [],
   "source": [
    "label_Encoder=LabelEncoder()"
   ]
  },
  {
   "cell_type": "code",
   "execution_count": 86,
   "id": "ee0fa17e-6943-4be7-a8a1-ae770a533766",
   "metadata": {},
   "outputs": [],
   "source": [
    "weather_df['Std_Weather']=label_Encoder.fit_transform(weather_df['Std_Weather'])"
   ]
  },
  {
   "cell_type": "code",
   "execution_count": 87,
   "id": "b89f7737-fb36-409e-80f0-135cba3a24e8",
   "metadata": {},
   "outputs": [
    {
     "data": {
      "text/plain": [
       "array(['CLEAR', 'CLOUDY', 'RAIN', 'SNOW'], dtype=object)"
      ]
     },
     "execution_count": 87,
     "metadata": {},
     "output_type": "execute_result"
    }
   ],
   "source": [
    "label_Encoder.classes_"
   ]
  },
  {
   "cell_type": "code",
   "execution_count": 88,
   "id": "6454501f-c68e-4d60-9a8b-444ee66366cd",
   "metadata": {},
   "outputs": [
    {
     "data": {
      "text/html": [
       "<div>\n",
       "<style scoped>\n",
       "    .dataframe tbody tr th:only-of-type {\n",
       "        vertical-align: middle;\n",
       "    }\n",
       "\n",
       "    .dataframe tbody tr th {\n",
       "        vertical-align: top;\n",
       "    }\n",
       "\n",
       "    .dataframe thead th {\n",
       "        text-align: right;\n",
       "    }\n",
       "</style>\n",
       "<table border=\"1\" class=\"dataframe\">\n",
       "  <thead>\n",
       "    <tr style=\"text-align: right;\">\n",
       "      <th></th>\n",
       "      <th>Temp_C</th>\n",
       "      <th>Dew Point Temp_C</th>\n",
       "      <th>Rel Hum_%</th>\n",
       "      <th>Wind Speed_km/h</th>\n",
       "      <th>Visibility_km</th>\n",
       "      <th>Press_kPa</th>\n",
       "      <th>Std_Weather</th>\n",
       "    </tr>\n",
       "  </thead>\n",
       "  <tbody>\n",
       "    <tr>\n",
       "      <th>2027</th>\n",
       "      <td>5.2</td>\n",
       "      <td>3.6</td>\n",
       "      <td>89</td>\n",
       "      <td>6</td>\n",
       "      <td>16.1</td>\n",
       "      <td>100.58</td>\n",
       "      <td>1</td>\n",
       "    </tr>\n",
       "    <tr>\n",
       "      <th>4871</th>\n",
       "      <td>22.9</td>\n",
       "      <td>14.4</td>\n",
       "      <td>59</td>\n",
       "      <td>9</td>\n",
       "      <td>25.0</td>\n",
       "      <td>101.19</td>\n",
       "      <td>1</td>\n",
       "    </tr>\n",
       "    <tr>\n",
       "      <th>5363</th>\n",
       "      <td>23.9</td>\n",
       "      <td>19.8</td>\n",
       "      <td>78</td>\n",
       "      <td>13</td>\n",
       "      <td>24.1</td>\n",
       "      <td>100.61</td>\n",
       "      <td>1</td>\n",
       "    </tr>\n",
       "    <tr>\n",
       "      <th>6462</th>\n",
       "      <td>15.0</td>\n",
       "      <td>9.1</td>\n",
       "      <td>68</td>\n",
       "      <td>17</td>\n",
       "      <td>24.1</td>\n",
       "      <td>100.86</td>\n",
       "      <td>1</td>\n",
       "    </tr>\n",
       "    <tr>\n",
       "      <th>5412</th>\n",
       "      <td>23.8</td>\n",
       "      <td>17.4</td>\n",
       "      <td>67</td>\n",
       "      <td>17</td>\n",
       "      <td>24.1</td>\n",
       "      <td>100.85</td>\n",
       "      <td>1</td>\n",
       "    </tr>\n",
       "  </tbody>\n",
       "</table>\n",
       "</div>"
      ],
      "text/plain": [
       "      Temp_C  Dew Point Temp_C  Rel Hum_%  Wind Speed_km/h  Visibility_km  \\\n",
       "2027     5.2               3.6         89                6           16.1   \n",
       "4871    22.9              14.4         59                9           25.0   \n",
       "5363    23.9              19.8         78               13           24.1   \n",
       "6462    15.0               9.1         68               17           24.1   \n",
       "5412    23.8              17.4         67               17           24.1   \n",
       "\n",
       "      Press_kPa  Std_Weather  \n",
       "2027     100.58            1  \n",
       "4871     101.19            1  \n",
       "5363     100.61            1  \n",
       "6462     100.86            1  \n",
       "5412     100.85            1  "
      ]
     },
     "execution_count": 88,
     "metadata": {},
     "output_type": "execute_result"
    }
   ],
   "source": [
    "weather_df.head()"
   ]
  },
  {
   "cell_type": "code",
   "execution_count": 89,
   "id": "5c460beb-fb4f-4119-b1b8-dfb1e2c1688b",
   "metadata": {},
   "outputs": [
    {
     "data": {
      "text/plain": [
       "Std_Weather\n",
       "2    603\n",
       "1    600\n",
       "0    600\n",
       "3    556\n",
       "Name: count, dtype: int64"
      ]
     },
     "execution_count": 89,
     "metadata": {},
     "output_type": "execute_result"
    }
   ],
   "source": [
    "weather_df.Std_Weather.value_counts()"
   ]
  },
  {
   "cell_type": "markdown",
   "id": "f0b82c61-2ac3-45b2-9007-86b0f6392c83",
   "metadata": {},
   "source": [
    "**x,y variables**"
   ]
  },
  {
   "cell_type": "code",
   "execution_count": 90,
   "id": "55ac282d-dda4-4729-b4b2-2a76ac71203c",
   "metadata": {},
   "outputs": [
    {
     "data": {
      "text/html": [
       "<div>\n",
       "<style scoped>\n",
       "    .dataframe tbody tr th:only-of-type {\n",
       "        vertical-align: middle;\n",
       "    }\n",
       "\n",
       "    .dataframe tbody tr th {\n",
       "        vertical-align: top;\n",
       "    }\n",
       "\n",
       "    .dataframe thead th {\n",
       "        text-align: right;\n",
       "    }\n",
       "</style>\n",
       "<table border=\"1\" class=\"dataframe\">\n",
       "  <thead>\n",
       "    <tr style=\"text-align: right;\">\n",
       "      <th></th>\n",
       "      <th>Temp_C</th>\n",
       "      <th>Dew Point Temp_C</th>\n",
       "      <th>Rel Hum_%</th>\n",
       "      <th>Wind Speed_km/h</th>\n",
       "      <th>Visibility_km</th>\n",
       "      <th>Press_kPa</th>\n",
       "    </tr>\n",
       "  </thead>\n",
       "  <tbody>\n",
       "    <tr>\n",
       "      <th>2027</th>\n",
       "      <td>5.2</td>\n",
       "      <td>3.6</td>\n",
       "      <td>89</td>\n",
       "      <td>6</td>\n",
       "      <td>16.1</td>\n",
       "      <td>100.58</td>\n",
       "    </tr>\n",
       "    <tr>\n",
       "      <th>4871</th>\n",
       "      <td>22.9</td>\n",
       "      <td>14.4</td>\n",
       "      <td>59</td>\n",
       "      <td>9</td>\n",
       "      <td>25.0</td>\n",
       "      <td>101.19</td>\n",
       "    </tr>\n",
       "    <tr>\n",
       "      <th>5363</th>\n",
       "      <td>23.9</td>\n",
       "      <td>19.8</td>\n",
       "      <td>78</td>\n",
       "      <td>13</td>\n",
       "      <td>24.1</td>\n",
       "      <td>100.61</td>\n",
       "    </tr>\n",
       "    <tr>\n",
       "      <th>6462</th>\n",
       "      <td>15.0</td>\n",
       "      <td>9.1</td>\n",
       "      <td>68</td>\n",
       "      <td>17</td>\n",
       "      <td>24.1</td>\n",
       "      <td>100.86</td>\n",
       "    </tr>\n",
       "    <tr>\n",
       "      <th>5412</th>\n",
       "      <td>23.8</td>\n",
       "      <td>17.4</td>\n",
       "      <td>67</td>\n",
       "      <td>17</td>\n",
       "      <td>24.1</td>\n",
       "      <td>100.85</td>\n",
       "    </tr>\n",
       "    <tr>\n",
       "      <th>...</th>\n",
       "      <td>...</td>\n",
       "      <td>...</td>\n",
       "      <td>...</td>\n",
       "      <td>...</td>\n",
       "      <td>...</td>\n",
       "      <td>...</td>\n",
       "    </tr>\n",
       "    <tr>\n",
       "      <th>8779</th>\n",
       "      <td>0.1</td>\n",
       "      <td>-2.7</td>\n",
       "      <td>81</td>\n",
       "      <td>30</td>\n",
       "      <td>9.7</td>\n",
       "      <td>100.13</td>\n",
       "    </tr>\n",
       "    <tr>\n",
       "      <th>8780</th>\n",
       "      <td>0.2</td>\n",
       "      <td>-2.4</td>\n",
       "      <td>83</td>\n",
       "      <td>24</td>\n",
       "      <td>9.7</td>\n",
       "      <td>100.03</td>\n",
       "    </tr>\n",
       "    <tr>\n",
       "      <th>8781</th>\n",
       "      <td>-0.5</td>\n",
       "      <td>-1.5</td>\n",
       "      <td>93</td>\n",
       "      <td>28</td>\n",
       "      <td>4.8</td>\n",
       "      <td>99.95</td>\n",
       "    </tr>\n",
       "    <tr>\n",
       "      <th>8782</th>\n",
       "      <td>-0.2</td>\n",
       "      <td>-1.8</td>\n",
       "      <td>89</td>\n",
       "      <td>28</td>\n",
       "      <td>9.7</td>\n",
       "      <td>99.91</td>\n",
       "    </tr>\n",
       "    <tr>\n",
       "      <th>8783</th>\n",
       "      <td>0.0</td>\n",
       "      <td>-2.1</td>\n",
       "      <td>86</td>\n",
       "      <td>30</td>\n",
       "      <td>11.3</td>\n",
       "      <td>99.89</td>\n",
       "    </tr>\n",
       "  </tbody>\n",
       "</table>\n",
       "<p>2359 rows × 6 columns</p>\n",
       "</div>"
      ],
      "text/plain": [
       "      Temp_C  Dew Point Temp_C  Rel Hum_%  Wind Speed_km/h  Visibility_km  \\\n",
       "2027     5.2               3.6         89                6           16.1   \n",
       "4871    22.9              14.4         59                9           25.0   \n",
       "5363    23.9              19.8         78               13           24.1   \n",
       "6462    15.0               9.1         68               17           24.1   \n",
       "5412    23.8              17.4         67               17           24.1   \n",
       "...      ...               ...        ...              ...            ...   \n",
       "8779     0.1              -2.7         81               30            9.7   \n",
       "8780     0.2              -2.4         83               24            9.7   \n",
       "8781    -0.5              -1.5         93               28            4.8   \n",
       "8782    -0.2              -1.8         89               28            9.7   \n",
       "8783     0.0              -2.1         86               30           11.3   \n",
       "\n",
       "      Press_kPa  \n",
       "2027     100.58  \n",
       "4871     101.19  \n",
       "5363     100.61  \n",
       "6462     100.86  \n",
       "5412     100.85  \n",
       "...         ...  \n",
       "8779     100.13  \n",
       "8780     100.03  \n",
       "8781      99.95  \n",
       "8782      99.91  \n",
       "8783      99.89  \n",
       "\n",
       "[2359 rows x 6 columns]"
      ]
     },
     "execution_count": 90,
     "metadata": {},
     "output_type": "execute_result"
    }
   ],
   "source": [
    "X=weather_df.drop(['Std_Weather'],axis=1)\n",
    "X"
   ]
  },
  {
   "cell_type": "code",
   "execution_count": 91,
   "id": "235c0693-d61e-465a-819a-36b74f9cd11e",
   "metadata": {},
   "outputs": [
    {
     "data": {
      "text/html": [
       "<div>\n",
       "<style scoped>\n",
       "    .dataframe tbody tr th:only-of-type {\n",
       "        vertical-align: middle;\n",
       "    }\n",
       "\n",
       "    .dataframe tbody tr th {\n",
       "        vertical-align: top;\n",
       "    }\n",
       "\n",
       "    .dataframe thead th {\n",
       "        text-align: right;\n",
       "    }\n",
       "</style>\n",
       "<table border=\"1\" class=\"dataframe\">\n",
       "  <thead>\n",
       "    <tr style=\"text-align: right;\">\n",
       "      <th></th>\n",
       "      <th>Temp_C</th>\n",
       "      <th>Dew Point Temp_C</th>\n",
       "      <th>Rel Hum_%</th>\n",
       "      <th>Wind Speed_km/h</th>\n",
       "      <th>Visibility_km</th>\n",
       "      <th>Press_kPa</th>\n",
       "      <th>Std_Weather</th>\n",
       "    </tr>\n",
       "  </thead>\n",
       "  <tbody>\n",
       "    <tr>\n",
       "      <th>2027</th>\n",
       "      <td>5.2</td>\n",
       "      <td>3.6</td>\n",
       "      <td>89</td>\n",
       "      <td>6</td>\n",
       "      <td>16.1</td>\n",
       "      <td>100.58</td>\n",
       "      <td>1</td>\n",
       "    </tr>\n",
       "    <tr>\n",
       "      <th>4871</th>\n",
       "      <td>22.9</td>\n",
       "      <td>14.4</td>\n",
       "      <td>59</td>\n",
       "      <td>9</td>\n",
       "      <td>25.0</td>\n",
       "      <td>101.19</td>\n",
       "      <td>1</td>\n",
       "    </tr>\n",
       "    <tr>\n",
       "      <th>5363</th>\n",
       "      <td>23.9</td>\n",
       "      <td>19.8</td>\n",
       "      <td>78</td>\n",
       "      <td>13</td>\n",
       "      <td>24.1</td>\n",
       "      <td>100.61</td>\n",
       "      <td>1</td>\n",
       "    </tr>\n",
       "    <tr>\n",
       "      <th>6462</th>\n",
       "      <td>15.0</td>\n",
       "      <td>9.1</td>\n",
       "      <td>68</td>\n",
       "      <td>17</td>\n",
       "      <td>24.1</td>\n",
       "      <td>100.86</td>\n",
       "      <td>1</td>\n",
       "    </tr>\n",
       "    <tr>\n",
       "      <th>5412</th>\n",
       "      <td>23.8</td>\n",
       "      <td>17.4</td>\n",
       "      <td>67</td>\n",
       "      <td>17</td>\n",
       "      <td>24.1</td>\n",
       "      <td>100.85</td>\n",
       "      <td>1</td>\n",
       "    </tr>\n",
       "  </tbody>\n",
       "</table>\n",
       "</div>"
      ],
      "text/plain": [
       "      Temp_C  Dew Point Temp_C  Rel Hum_%  Wind Speed_km/h  Visibility_km  \\\n",
       "2027     5.2               3.6         89                6           16.1   \n",
       "4871    22.9              14.4         59                9           25.0   \n",
       "5363    23.9              19.8         78               13           24.1   \n",
       "6462    15.0               9.1         68               17           24.1   \n",
       "5412    23.8              17.4         67               17           24.1   \n",
       "\n",
       "      Press_kPa  Std_Weather  \n",
       "2027     100.58            1  \n",
       "4871     101.19            1  \n",
       "5363     100.61            1  \n",
       "6462     100.86            1  \n",
       "5412     100.85            1  "
      ]
     },
     "execution_count": 91,
     "metadata": {},
     "output_type": "execute_result"
    }
   ],
   "source": [
    "y=weather_df['Std_Weather']\n",
    "weather_df.head()"
   ]
  },
  {
   "cell_type": "markdown",
   "id": "00a62369-c391-4c0d-abe4-aef592dab097",
   "metadata": {},
   "source": [
    "**Feature Scaling**"
   ]
  },
  {
   "cell_type": "code",
   "execution_count": 92,
   "id": "1ccc70d8-c4d6-4748-a79f-dfb769a15f64",
   "metadata": {},
   "outputs": [],
   "source": [
    "from sklearn.preprocessing import StandardScaler\n",
    "std_scaler= StandardScaler()"
   ]
  },
  {
   "cell_type": "code",
   "execution_count": 93,
   "id": "1f12b76e-9ac9-48ff-8eb8-e34b63e6cc4f",
   "metadata": {},
   "outputs": [
    {
     "data": {
      "text/plain": [
       "array([[-0.14054028,  0.1871941 ,  1.06156104, -1.15885849, -0.56160463,\n",
       "        -0.24620107],\n",
       "       [ 1.40750128,  1.21410544, -0.80257818, -0.83631782,  0.13436306,\n",
       "         0.42752885],\n",
       "       [ 1.49496126,  1.72756111,  0.37804333, -0.4062636 ,  0.0639843 ,\n",
       "        -0.21306681],\n",
       "       ...,\n",
       "       [-0.63906214, -0.29773625,  1.31011294,  1.20643973, -1.445249  ,\n",
       "        -0.9420205 ],\n",
       "       [-0.61282415, -0.32626157,  1.06156104,  1.20643973, -1.06207578,\n",
       "        -0.98619952],\n",
       "       [-0.59533216, -0.35478688,  0.87514712,  1.42146684, -0.93695799,\n",
       "        -1.00828902]])"
      ]
     },
     "execution_count": 93,
     "metadata": {},
     "output_type": "execute_result"
    }
   ],
   "source": [
    "X_std=std_scaler.fit_transform(X)\n",
    "X_std"
   ]
  },
  {
   "cell_type": "markdown",
   "id": "4b5cb188-a473-41bb-a8d7-896a288b6b4a",
   "metadata": {},
   "source": [
    "**splitting data into training and testing**"
   ]
  },
  {
   "cell_type": "code",
   "execution_count": 127,
   "id": "484c301d-04cc-46c8-bf80-48f036cee85c",
   "metadata": {},
   "outputs": [
    {
     "data": {
      "text/plain": [
       "((1887, 6), (472, 6))"
      ]
     },
     "execution_count": 127,
     "metadata": {},
     "output_type": "execute_result"
    }
   ],
   "source": [
    "from sklearn.model_selection import train_test_split\n",
    "x_train,x_test,y_train,y_test=train_test_split(X_std,y,test_size=0.2,random_state=42)\n",
    "x_train.shape,x_test.shape"
   ]
  },
  {
   "cell_type": "markdown",
   "id": "bba94a41-8dfd-4fa4-9e35-e4fa9b4bd2af",
   "metadata": {},
   "source": [
    "**Model Building**"
   ]
  },
  {
   "cell_type": "code",
   "execution_count": 99,
   "id": "a2b8dd3d-5993-4ec6-b88c-0dd87bdb9ac3",
   "metadata": {},
   "outputs": [],
   "source": [
    "from sklearn.linear_model import LogisticRegression\n",
    "from sklearn.tree import DecisionTreeClassifier\n",
    "from sklearn.ensemble import RandomForestClassifier\n",
    "from sklearn.tree import ExtraTreeClassifier\n",
    "from sklearn.svm import SVC\n",
    "from sklearn.neighbors import KNeighborsClassifier\n",
    "from sklearn.ensemble import GradientBoostingClassifier\n",
    "from sklearn.naive_bayes import GaussianNB\n",
    "from sklearn.ensemble import AdaBoostClassifier"
   ]
  },
  {
   "cell_type": "markdown",
   "id": "3575714d-0da8-430d-a056-8e006021fe6f",
   "metadata": {},
   "source": [
    "**Creating objects of each mmodel**"
   ]
  },
  {
   "cell_type": "code",
   "execution_count": 101,
   "id": "47c890a8-aa8d-452f-b289-d914596f7cba",
   "metadata": {},
   "outputs": [],
   "source": [
    "LR= LogisticRegression()\n",
    "DT=DecisionTreeClassifier()\n",
    "RF=RandomForestClassifier()\n",
    "ETC=ExtraTreeClassifier()\n",
    "SVM=SVC()\n",
    "KNN=KNeighborsClassifier()\n",
    "GBC=GradientBoostingClassifier()\n",
    "NB=GaussianNB()\n",
    "ABC= AdaBoostClassifier()"
   ]
  },
  {
   "cell_type": "code",
   "execution_count": 122,
   "id": "73eb38e7-1f77-42b9-b177-8a51d8a02931",
   "metadata": {},
   "outputs": [],
   "source": [
    "import warnings\n",
    "warnings.filterwarnings('ignore')\n",
    "from sklearn.model_selection import cross_val_score\n",
    "models=[LR,DT,RF,ETC,SVM,KNN,GBC,ABC,NB]\n",
    "features=X_std\n",
    "labels=y\n",
    "CV=5\n",
    "accu_list=[]\n",
    "ModelName = []\n",
    "for model in models:\n",
    "    model_name = model.__class__.__name__\n",
    "    accuracies = cross_val_score(model, features, labels, scoring='accuracy', cv=CV)\n",
    "    ModelName.append(model_name)\n",
    "    accu_list.append(accuracies.mean()*100) \n",
    "    model_acc_df=pd.DataFrame({\"Model\":ModelName,\"Cross_Val_Accuracy\":accu_list})\n",
    "    "
   ]
  },
  {
   "cell_type": "code",
   "execution_count": 125,
   "id": "677fb115-dfd4-4023-aa12-173f22c2acae",
   "metadata": {},
   "outputs": [
    {
     "data": {
      "text/html": [
       "<div>\n",
       "<style scoped>\n",
       "    .dataframe tbody tr th:only-of-type {\n",
       "        vertical-align: middle;\n",
       "    }\n",
       "\n",
       "    .dataframe tbody tr th {\n",
       "        vertical-align: top;\n",
       "    }\n",
       "\n",
       "    .dataframe thead th {\n",
       "        text-align: right;\n",
       "    }\n",
       "</style>\n",
       "<table border=\"1\" class=\"dataframe\">\n",
       "  <thead>\n",
       "    <tr style=\"text-align: right;\">\n",
       "      <th></th>\n",
       "      <th>Model</th>\n",
       "      <th>Cross_Val_Accuracy</th>\n",
       "    </tr>\n",
       "  </thead>\n",
       "  <tbody>\n",
       "    <tr>\n",
       "      <th>0</th>\n",
       "      <td>LogisticRegression</td>\n",
       "      <td>60.536273</td>\n",
       "    </tr>\n",
       "    <tr>\n",
       "      <th>1</th>\n",
       "      <td>DecisionTreeClassifier</td>\n",
       "      <td>56.255083</td>\n",
       "    </tr>\n",
       "    <tr>\n",
       "      <th>2</th>\n",
       "      <td>RandomForestClassifier</td>\n",
       "      <td>64.224243</td>\n",
       "    </tr>\n",
       "    <tr>\n",
       "      <th>3</th>\n",
       "      <td>ExtraTreeClassifier</td>\n",
       "      <td>54.092357</td>\n",
       "    </tr>\n",
       "    <tr>\n",
       "      <th>4</th>\n",
       "      <td>SVC</td>\n",
       "      <td>61.258142</td>\n",
       "    </tr>\n",
       "    <tr>\n",
       "      <th>5</th>\n",
       "      <td>KNeighborsClassifier</td>\n",
       "      <td>56.637339</td>\n",
       "    </tr>\n",
       "    <tr>\n",
       "      <th>6</th>\n",
       "      <td>GradientBoostingClassifier</td>\n",
       "      <td>63.122728</td>\n",
       "    </tr>\n",
       "    <tr>\n",
       "      <th>7</th>\n",
       "      <td>AdaBoostClassifier</td>\n",
       "      <td>49.558009</td>\n",
       "    </tr>\n",
       "    <tr>\n",
       "      <th>8</th>\n",
       "      <td>GaussianNB</td>\n",
       "      <td>59.773112</td>\n",
       "    </tr>\n",
       "  </tbody>\n",
       "</table>\n",
       "</div>"
      ],
      "text/plain": [
       "                        Model  Cross_Val_Accuracy\n",
       "0          LogisticRegression           60.536273\n",
       "1      DecisionTreeClassifier           56.255083\n",
       "2      RandomForestClassifier           64.224243\n",
       "3         ExtraTreeClassifier           54.092357\n",
       "4                         SVC           61.258142\n",
       "5        KNeighborsClassifier           56.637339\n",
       "6  GradientBoostingClassifier           63.122728\n",
       "7          AdaBoostClassifier           49.558009\n",
       "8                  GaussianNB           59.773112"
      ]
     },
     "execution_count": 125,
     "metadata": {},
     "output_type": "execute_result"
    }
   ],
   "source": [
    "model_acc_df\n"
   ]
  },
  {
   "cell_type": "markdown",
   "id": "31d8c666-91f0-4e4a-ae58-f1b9a29b3994",
   "metadata": {},
   "source": [
    "**Model Evaluations**"
   ]
  },
  {
   "cell_type": "code",
   "execution_count": 115,
   "id": "b523aa6b-ded5-4c04-8e49-0b23506ff230",
   "metadata": {},
   "outputs": [],
   "source": [
    "from sklearn.metrics import accuracy_score\n",
    "from sklearn.metrics import classification_report\n",
    "from sklearn.metrics import confusion_matrix\n",
    "\n"
   ]
  },
  {
   "cell_type": "markdown",
   "id": "398205db-b781-41ad-8f56-442d14d7beb4",
   "metadata": {},
   "source": [
    "**Classification Report**"
   ]
  },
  {
   "cell_type": "code",
   "execution_count": 130,
   "id": "0dfe91af-fb54-4b6a-a06e-5e5cf56065f8",
   "metadata": {},
   "outputs": [],
   "source": [
    "RF.fit(x_train,y_train)\n",
    "y_pred_rf=RF.predict(x_test)"
   ]
  },
  {
   "cell_type": "code",
   "execution_count": 131,
   "id": "e3cabcc9-0267-4c54-bd42-2b1d1031e145",
   "metadata": {},
   "outputs": [
    {
     "name": "stdout",
     "output_type": "stream",
     "text": [
      "              precision    recall  f1-score   support\n",
      "\n",
      "           0       0.60      0.65      0.62       118\n",
      "           1       0.49      0.40      0.44       128\n",
      "           2       0.72      0.76      0.74       126\n",
      "           3       0.78      0.82      0.80       100\n",
      "\n",
      "    accuracy                           0.65       472\n",
      "   macro avg       0.65      0.66      0.65       472\n",
      "weighted avg       0.64      0.65      0.64       472\n",
      "\n"
     ]
    }
   ],
   "source": [
    "print(classification_report(y_test,y_pred_rf))"
   ]
  },
  {
   "cell_type": "markdown",
   "id": "0ff26fe7-e4c2-4c81-a7c7-4a6ec5847486",
   "metadata": {},
   "source": [
    "**Confusion Matrix**"
   ]
  },
  {
   "cell_type": "code",
   "execution_count": 133,
   "id": "972d0ca8-928e-4db8-b848-f88d74fc0191",
   "metadata": {},
   "outputs": [
    {
     "data": {
      "text/plain": [
       "array([[77, 32,  7,  2],\n",
       "       [40, 51, 25, 12],\n",
       "       [ 8, 13, 96,  9],\n",
       "       [ 4,  9,  5, 82]], dtype=int64)"
      ]
     },
     "execution_count": 133,
     "metadata": {},
     "output_type": "execute_result"
    }
   ],
   "source": [
    "cm=confusion_matrix(y_test,y_pred_rf)\n",
    "cm"
   ]
  },
  {
   "cell_type": "markdown",
   "id": "d8bff969-9f43-425b-897f-b2130a66776a",
   "metadata": {},
   "source": [
    "**Hyperparameter tuning:Model tuning**"
   ]
  },
  {
   "cell_type": "code",
   "execution_count": 134,
   "id": "45f3a5b7-ce5f-4350-aa0f-75557c231cd0",
   "metadata": {},
   "outputs": [],
   "source": [
    "from sklearn.model_selection import GridSearchCV,RandomizedSearchCV"
   ]
  },
  {
   "cell_type": "code",
   "execution_count": 142,
   "id": "c4c1e177-43df-414f-8025-5e8ee3c50de8",
   "metadata": {},
   "outputs": [],
   "source": [
    "parameters={\n",
    "'n_estimators':[50,100],\n",
    "'max_features':['sqrt','log2'],\n",
    "    \"criterion\":[\"gini\",'entropy']\n",
    "}"
   ]
  },
  {
   "cell_type": "code",
   "execution_count": 143,
   "id": "e42bd55d-8aa4-4af1-93dd-c29e403e99fd",
   "metadata": {},
   "outputs": [],
   "source": [
    "grid_search = GridSearchCV(estimator=RF,\n",
    "                           param_grid=parameters)"
   ]
  },
  {
   "cell_type": "code",
   "execution_count": 144,
   "id": "dc8ce658-5d6d-4572-8e02-e0071ade7cf5",
   "metadata": {},
   "outputs": [
    {
     "data": {
      "text/html": [
       "<style>#sk-container-id-1 {color: black;background-color: white;}#sk-container-id-1 pre{padding: 0;}#sk-container-id-1 div.sk-toggleable {background-color: white;}#sk-container-id-1 label.sk-toggleable__label {cursor: pointer;display: block;width: 100%;margin-bottom: 0;padding: 0.3em;box-sizing: border-box;text-align: center;}#sk-container-id-1 label.sk-toggleable__label-arrow:before {content: \"▸\";float: left;margin-right: 0.25em;color: #696969;}#sk-container-id-1 label.sk-toggleable__label-arrow:hover:before {color: black;}#sk-container-id-1 div.sk-estimator:hover label.sk-toggleable__label-arrow:before {color: black;}#sk-container-id-1 div.sk-toggleable__content {max-height: 0;max-width: 0;overflow: hidden;text-align: left;background-color: #f0f8ff;}#sk-container-id-1 div.sk-toggleable__content pre {margin: 0.2em;color: black;border-radius: 0.25em;background-color: #f0f8ff;}#sk-container-id-1 input.sk-toggleable__control:checked~div.sk-toggleable__content {max-height: 200px;max-width: 100%;overflow: auto;}#sk-container-id-1 input.sk-toggleable__control:checked~label.sk-toggleable__label-arrow:before {content: \"▾\";}#sk-container-id-1 div.sk-estimator input.sk-toggleable__control:checked~label.sk-toggleable__label {background-color: #d4ebff;}#sk-container-id-1 div.sk-label input.sk-toggleable__control:checked~label.sk-toggleable__label {background-color: #d4ebff;}#sk-container-id-1 input.sk-hidden--visually {border: 0;clip: rect(1px 1px 1px 1px);clip: rect(1px, 1px, 1px, 1px);height: 1px;margin: -1px;overflow: hidden;padding: 0;position: absolute;width: 1px;}#sk-container-id-1 div.sk-estimator {font-family: monospace;background-color: #f0f8ff;border: 1px dotted black;border-radius: 0.25em;box-sizing: border-box;margin-bottom: 0.5em;}#sk-container-id-1 div.sk-estimator:hover {background-color: #d4ebff;}#sk-container-id-1 div.sk-parallel-item::after {content: \"\";width: 100%;border-bottom: 1px solid gray;flex-grow: 1;}#sk-container-id-1 div.sk-label:hover label.sk-toggleable__label {background-color: #d4ebff;}#sk-container-id-1 div.sk-serial::before {content: \"\";position: absolute;border-left: 1px solid gray;box-sizing: border-box;top: 0;bottom: 0;left: 50%;z-index: 0;}#sk-container-id-1 div.sk-serial {display: flex;flex-direction: column;align-items: center;background-color: white;padding-right: 0.2em;padding-left: 0.2em;position: relative;}#sk-container-id-1 div.sk-item {position: relative;z-index: 1;}#sk-container-id-1 div.sk-parallel {display: flex;align-items: stretch;justify-content: center;background-color: white;position: relative;}#sk-container-id-1 div.sk-item::before, #sk-container-id-1 div.sk-parallel-item::before {content: \"\";position: absolute;border-left: 1px solid gray;box-sizing: border-box;top: 0;bottom: 0;left: 50%;z-index: -1;}#sk-container-id-1 div.sk-parallel-item {display: flex;flex-direction: column;z-index: 1;position: relative;background-color: white;}#sk-container-id-1 div.sk-parallel-item:first-child::after {align-self: flex-end;width: 50%;}#sk-container-id-1 div.sk-parallel-item:last-child::after {align-self: flex-start;width: 50%;}#sk-container-id-1 div.sk-parallel-item:only-child::after {width: 0;}#sk-container-id-1 div.sk-dashed-wrapped {border: 1px dashed gray;margin: 0 0.4em 0.5em 0.4em;box-sizing: border-box;padding-bottom: 0.4em;background-color: white;}#sk-container-id-1 div.sk-label label {font-family: monospace;font-weight: bold;display: inline-block;line-height: 1.2em;}#sk-container-id-1 div.sk-label-container {text-align: center;}#sk-container-id-1 div.sk-container {/* jupyter's `normalize.less` sets `[hidden] { display: none; }` but bootstrap.min.css set `[hidden] { display: none !important; }` so we also need the `!important` here to be able to override the default hidden behavior on the sphinx rendered scikit-learn.org. See: https://github.com/scikit-learn/scikit-learn/issues/21755 */display: inline-block !important;position: relative;}#sk-container-id-1 div.sk-text-repr-fallback {display: none;}</style><div id=\"sk-container-id-1\" class=\"sk-top-container\"><div class=\"sk-text-repr-fallback\"><pre>GridSearchCV(estimator=RandomForestClassifier(),\n",
       "             param_grid={&#x27;criterion&#x27;: [&#x27;gini&#x27;, &#x27;entropy&#x27;],\n",
       "                         &#x27;max_features&#x27;: [&#x27;sqrt&#x27;, &#x27;log2&#x27;],\n",
       "                         &#x27;n_estimators&#x27;: [50, 100]})</pre><b>In a Jupyter environment, please rerun this cell to show the HTML representation or trust the notebook. <br />On GitHub, the HTML representation is unable to render, please try loading this page with nbviewer.org.</b></div><div class=\"sk-container\" hidden><div class=\"sk-item sk-dashed-wrapped\"><div class=\"sk-label-container\"><div class=\"sk-label sk-toggleable\"><input class=\"sk-toggleable__control sk-hidden--visually\" id=\"sk-estimator-id-1\" type=\"checkbox\" ><label for=\"sk-estimator-id-1\" class=\"sk-toggleable__label sk-toggleable__label-arrow\">GridSearchCV</label><div class=\"sk-toggleable__content\"><pre>GridSearchCV(estimator=RandomForestClassifier(),\n",
       "             param_grid={&#x27;criterion&#x27;: [&#x27;gini&#x27;, &#x27;entropy&#x27;],\n",
       "                         &#x27;max_features&#x27;: [&#x27;sqrt&#x27;, &#x27;log2&#x27;],\n",
       "                         &#x27;n_estimators&#x27;: [50, 100]})</pre></div></div></div><div class=\"sk-parallel\"><div class=\"sk-parallel-item\"><div class=\"sk-item\"><div class=\"sk-label-container\"><div class=\"sk-label sk-toggleable\"><input class=\"sk-toggleable__control sk-hidden--visually\" id=\"sk-estimator-id-2\" type=\"checkbox\" ><label for=\"sk-estimator-id-2\" class=\"sk-toggleable__label sk-toggleable__label-arrow\">estimator: RandomForestClassifier</label><div class=\"sk-toggleable__content\"><pre>RandomForestClassifier()</pre></div></div></div><div class=\"sk-serial\"><div class=\"sk-item\"><div class=\"sk-estimator sk-toggleable\"><input class=\"sk-toggleable__control sk-hidden--visually\" id=\"sk-estimator-id-3\" type=\"checkbox\" ><label for=\"sk-estimator-id-3\" class=\"sk-toggleable__label sk-toggleable__label-arrow\">RandomForestClassifier</label><div class=\"sk-toggleable__content\"><pre>RandomForestClassifier()</pre></div></div></div></div></div></div></div></div></div></div>"
      ],
      "text/plain": [
       "GridSearchCV(estimator=RandomForestClassifier(),\n",
       "             param_grid={'criterion': ['gini', 'entropy'],\n",
       "                         'max_features': ['sqrt', 'log2'],\n",
       "                         'n_estimators': [50, 100]})"
      ]
     },
     "execution_count": 144,
     "metadata": {},
     "output_type": "execute_result"
    }
   ],
   "source": [
    "grid_search.fit(x_train,y_train)"
   ]
  },
  {
   "cell_type": "markdown",
   "id": "4877b8f6-bfdf-4fe6-a84b-dd7b897a87c3",
   "metadata": {},
   "source": [
    "**Best Hyper parameters**"
   ]
  },
  {
   "cell_type": "code",
   "execution_count": 145,
   "id": "7a54468f-8317-4905-b3af-2754a77b5706",
   "metadata": {},
   "outputs": [
    {
     "data": {
      "text/plain": [
       "{'criterion': 'gini', 'max_features': 'log2', 'n_estimators': 100}"
      ]
     },
     "execution_count": 145,
     "metadata": {},
     "output_type": "execute_result"
    }
   ],
   "source": [
    "grid_search.best_params_"
   ]
  },
  {
   "cell_type": "code",
   "execution_count": 146,
   "id": "aea4eb3a-4503-48e8-b7be-5da333ba1e19",
   "metadata": {},
   "outputs": [],
   "source": [
    "Random_forest_model_new=RandomForestClassifier(criterion='gini',max_features='log2',n_estimators=50)"
   ]
  },
  {
   "cell_type": "code",
   "execution_count": 148,
   "id": "62a61ccc-8d93-488a-b683-8be954768f48",
   "metadata": {},
   "outputs": [
    {
     "data": {
      "text/plain": [
       "0.6652542372881356"
      ]
     },
     "execution_count": 148,
     "metadata": {},
     "output_type": "execute_result"
    }
   ],
   "source": [
    "Random_forest_model_new.fit(x_train,y_train)\n",
    "y_pred_rf=Random_forest_model_new.predict(x_test)\n",
    "accuracy_score(y_test,y_pred_rf)"
   ]
  },
  {
   "cell_type": "code",
   "execution_count": 149,
   "id": "6943ad97-d994-4785-a9c3-726f73538a84",
   "metadata": {},
   "outputs": [
    {
     "data": {
      "text/html": [
       "<div>\n",
       "<style scoped>\n",
       "    .dataframe tbody tr th:only-of-type {\n",
       "        vertical-align: middle;\n",
       "    }\n",
       "\n",
       "    .dataframe tbody tr th {\n",
       "        vertical-align: top;\n",
       "    }\n",
       "\n",
       "    .dataframe thead th {\n",
       "        text-align: right;\n",
       "    }\n",
       "</style>\n",
       "<table border=\"1\" class=\"dataframe\">\n",
       "  <thead>\n",
       "    <tr style=\"text-align: right;\">\n",
       "      <th></th>\n",
       "      <th>Temp_C</th>\n",
       "      <th>Dew Point Temp_C</th>\n",
       "      <th>Rel Hum_%</th>\n",
       "      <th>Wind Speed_km/h</th>\n",
       "      <th>Visibility_km</th>\n",
       "      <th>Press_kPa</th>\n",
       "      <th>Std_Weather</th>\n",
       "    </tr>\n",
       "  </thead>\n",
       "  <tbody>\n",
       "    <tr>\n",
       "      <th>2027</th>\n",
       "      <td>5.2</td>\n",
       "      <td>3.6</td>\n",
       "      <td>89</td>\n",
       "      <td>6</td>\n",
       "      <td>16.1</td>\n",
       "      <td>100.58</td>\n",
       "      <td>1</td>\n",
       "    </tr>\n",
       "    <tr>\n",
       "      <th>4871</th>\n",
       "      <td>22.9</td>\n",
       "      <td>14.4</td>\n",
       "      <td>59</td>\n",
       "      <td>9</td>\n",
       "      <td>25.0</td>\n",
       "      <td>101.19</td>\n",
       "      <td>1</td>\n",
       "    </tr>\n",
       "    <tr>\n",
       "      <th>5363</th>\n",
       "      <td>23.9</td>\n",
       "      <td>19.8</td>\n",
       "      <td>78</td>\n",
       "      <td>13</td>\n",
       "      <td>24.1</td>\n",
       "      <td>100.61</td>\n",
       "      <td>1</td>\n",
       "    </tr>\n",
       "    <tr>\n",
       "      <th>6462</th>\n",
       "      <td>15.0</td>\n",
       "      <td>9.1</td>\n",
       "      <td>68</td>\n",
       "      <td>17</td>\n",
       "      <td>24.1</td>\n",
       "      <td>100.86</td>\n",
       "      <td>1</td>\n",
       "    </tr>\n",
       "    <tr>\n",
       "      <th>5412</th>\n",
       "      <td>23.8</td>\n",
       "      <td>17.4</td>\n",
       "      <td>67</td>\n",
       "      <td>17</td>\n",
       "      <td>24.1</td>\n",
       "      <td>100.85</td>\n",
       "      <td>1</td>\n",
       "    </tr>\n",
       "  </tbody>\n",
       "</table>\n",
       "</div>"
      ],
      "text/plain": [
       "      Temp_C  Dew Point Temp_C  Rel Hum_%  Wind Speed_km/h  Visibility_km  \\\n",
       "2027     5.2               3.6         89                6           16.1   \n",
       "4871    22.9              14.4         59                9           25.0   \n",
       "5363    23.9              19.8         78               13           24.1   \n",
       "6462    15.0               9.1         68               17           24.1   \n",
       "5412    23.8              17.4         67               17           24.1   \n",
       "\n",
       "      Press_kPa  Std_Weather  \n",
       "2027     100.58            1  \n",
       "4871     101.19            1  \n",
       "5363     100.61            1  \n",
       "6462     100.86            1  \n",
       "5412     100.85            1  "
      ]
     },
     "execution_count": 149,
     "metadata": {},
     "output_type": "execute_result"
    }
   ],
   "source": [
    "weather_df.head()"
   ]
  },
  {
   "cell_type": "code",
   "execution_count": 150,
   "id": "2e7f730a-469d-4e8d-a546-aa9409f37466",
   "metadata": {},
   "outputs": [
    {
     "name": "stdin",
     "output_type": "stream",
     "text": [
      "Enter the Temp_C= 23\n",
      "Enter the Dew point Temp_C= 7.5\n",
      "Enter the Relative humidity %= 60\n",
      "Enter the Wind Speed(km/hr)= 25\n",
      "Enter the Visibility_km= 24\n",
      "Enter the Pressure Kpa= 100.2\n"
     ]
    }
   ],
   "source": [
    "Temp=float(input('Enter the Temp_C='))\n",
    "dpt=float(input('Enter the Dew point Temp_C='))\n",
    "rh=float(input('Enter the Relative humidity %='))\n",
    "ws=float(input('Enter the Wind Speed(km/hr)='))\n",
    "vs=float(input('Enter the Visibility_km='))\n",
    "pr=float(input('Enter the Pressure Kpa='))"
   ]
  },
  {
   "cell_type": "code",
   "execution_count": 151,
   "id": "2ebfc974-2e4a-4c3a-b506-91ab04b42694",
   "metadata": {},
   "outputs": [
    {
     "data": {
      "text/plain": [
       "array([1])"
      ]
     },
     "execution_count": 151,
     "metadata": {},
     "output_type": "execute_result"
    }
   ],
   "source": [
    "input_data=[Temp,dpt,rh,ws,vs,pr]\n",
    "scaled_data=std_scaler.transform([input_data])\n",
    "prediction=Random_forest_model_new.predict(scaled_data)\n",
    "prediction"
   ]
  },
  {
   "cell_type": "code",
   "execution_count": null,
   "id": "b6e8f851-8dd5-4002-ad67-b97b88cb3514",
   "metadata": {},
   "outputs": [],
   "source": [
    "if prediction[0]==0:\n",
    "    print('Weather is \"CLEAR\"')\n",
    "elif prediction[0]==1:\n",
    "     print('Weather is \"CLOUDY\"')\n",
    "elif prediction[0]==2:\n",
    "     print('Weather is \"RAINY\"')\n",
    "else:\n",
    "    print('Weather is \"SNOWY\"')"
   ]
  },
  {
   "cell_type": "markdown",
   "id": "706d98ea-03a8-4c3c-b1cf-a2690e153cfb",
   "metadata": {},
   "source": [
    "**WEATHER PREDICTIVE SYSTEM**"
   ]
  },
  {
   "cell_type": "code",
   "execution_count": 157,
   "id": "d261d736-31c7-40c8-a664-cd2691ebce9a",
   "metadata": {},
   "outputs": [
    {
     "name": "stdin",
     "output_type": "stream",
     "text": [
      "Enter the Temp_C= 28\n",
      "Enter the Dew point Temp_C= 77\n",
      "Enter the Relative humidity %= 77\n",
      "Enter the Wind Speed(km/hr)= 0\n",
      "Enter the Visibility_km= 999\n",
      "Enter the Pressure Kpa= 999\n"
     ]
    },
    {
     "name": "stdout",
     "output_type": "stream",
     "text": [
      "\n",
      "*********Weather Prediction Machne Learning Model********\n",
      "\n",
      "Weather is \"CLEAR\"\n"
     ]
    }
   ],
   "source": [
    "Temp=float(input('Enter the Temp_C='))\n",
    "dpt=float(input('Enter the Dew point Temp_C='))\n",
    "rh=float(input('Enter the Relative humidity %='))\n",
    "ws=float(input('Enter the Wind Speed(km/hr)='))\n",
    "vs=float(input('Enter the Visibility_km='))\n",
    "pr=float(input('Enter the Pressure Kpa='))\n",
    "\n",
    "input_data=[Temp,dpt,rh,ws,vs,pr]\n",
    "scaled_data=std_scaler.transform([input_data])\n",
    "prediction=Random_forest_model_new.predict(scaled_data)\n",
    "print(\"\")\n",
    "print(\"*********Weather Prediction Machne Learning Model********\")\n",
    "print(\"\")\n",
    "\n",
    "if prediction[0]==0:\n",
    "    print('Weather is \"CLEAR\"')\n",
    "elif prediction[0]==1:\n",
    "     print('Weather is \"CLOUDY\"')\n",
    "elif prediction[0]==2:\n",
    "     print('Weather is \"RAINY\"')\n",
    "else:\n",
    "    print('Weather is \"SNOWY\"')\n"
   ]
  }
 ],
 "metadata": {
  "kernelspec": {
   "display_name": "Python 3 (ipykernel)",
   "language": "python",
   "name": "python3"
  },
  "language_info": {
   "codemirror_mode": {
    "name": "ipython",
    "version": 3
   },
   "file_extension": ".py",
   "mimetype": "text/x-python",
   "name": "python",
   "nbconvert_exporter": "python",
   "pygments_lexer": "ipython3",
   "version": "3.11.7"
  }
 },
 "nbformat": 4,
 "nbformat_minor": 5
}
